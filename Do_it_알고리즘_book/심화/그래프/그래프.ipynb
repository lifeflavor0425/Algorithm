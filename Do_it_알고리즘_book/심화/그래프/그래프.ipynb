{
 "cells": [
  {
   "cell_type": "markdown",
   "metadata": {},
   "source": [
    "# 그래프"
   ]
  },
  {
   "cell_type": "code",
   "execution_count": 2,
   "metadata": {},
   "outputs": [
    {
     "name": "stdout",
     "output_type": "stream",
     "text": [
      "[[1, 0, 0, 0], [0, 0, 0, 0], [0, 0, 0, 0]]\n",
      "[[1, 0, 0, 0], [1, 0, 0, 0], [1, 0, 0, 0]]\n"
     ]
    }
   ],
   "source": [
    "A = [[0 for col in range(4)] for row in range(3)]\n",
    "B = [[0]*4]*3\n",
    "\n",
    "A[0][0] = 1\n",
    "B[0][0] = 1\n",
    "print(A)\n",
    "print(B)"
   ]
  },
  {
   "cell_type": "markdown",
   "metadata": {},
   "source": [
    "- B의 경우 모든 리스트의 각 요소가 해당 객체를 바라봄, B는 [0]*4 라는 객체를 3개 복사한 것\n",
    "- 따라서 A 방식으로 리스트 선언"
   ]
  },
  {
   "cell_type": "markdown",
   "metadata": {},
   "source": [
    "## 에지 리스트"
   ]
  },
  {
   "cell_type": "markdown",
   "metadata": {},
   "source": [
    "- 에지를 중심으로 그래프를 표현\n",
    "- 출발 노드, 도착 노드를 저장하여 에지를 표현(+ 가중치)\n",
    "- [1,2] (or [1,2,가중치])로 표현\n",
    "- 구현하기 쉽지만, 특정 노드와 관련되어 있는 에지를 탐색하기는 쉽지 않음\n"
   ]
  },
  {
   "cell_type": "markdown",
   "metadata": {},
   "source": [
    "## 인접 행렬"
   ]
  },
  {
   "cell_type": "markdown",
   "metadata": {},
   "source": [
    "- 노드 중심으로 그래프를 표현\n",
    "- n*n의 행렬로 표현\n",
    "- 두 노드를 연결하는 에지의 여부와 가중치값을 쉽게 확인가능\n",
    "- 에지를 탐색하려면 n번 접근 -> 느림"
   ]
  },
  {
   "cell_type": "markdown",
   "metadata": {},
   "source": [
    "## 인접 리스트!!!"
   ]
  },
  {
   "cell_type": "markdown",
   "metadata": {},
   "source": [
    "- 파이썬의 리스트를 이용하여 그래프를 표현\n",
    "- 노드 개수만큼 리스트를 선언 ex) A = [[] for _ in range(n+1)]\n",
    "- A[1]= [2,3] .. \n",
    "- 가중치가 있는 경우, A[1] = [(2,가중치), (3,가중치)].. \n",
    "- 구현이 복잡함, 노드와 에지를 금방 탐색, 효율 좋음\n",
    "- DFS, BFS에 자주 사용"
   ]
  },
  {
   "cell_type": "markdown",
   "metadata": {},
   "source": [
    "## 문제 046 - 특정 거리의 도시 찾기"
   ]
  },
  {
   "cell_type": "markdown",
   "metadata": {},
   "source": [
    "- BFS\n",
    "- 도시 x로부터 출발해 도달할 수 있는 모든 도시 중 최단 거리가 정확히 k인 모든 도시들의 번호 출력"
   ]
  },
  {
   "cell_type": "code",
   "execution_count": 17,
   "metadata": {},
   "outputs": [
    {
     "name": "stdout",
     "output_type": "stream",
     "text": [
      "[[], [2, 3, 4], [], [], []]\n"
     ]
    }
   ],
   "source": [
    "# 초기화\n",
    "n, m, k, x = 4,3,2,1\n",
    "\n",
    "A = [[] for _ in range(n+1)]\n",
    "for i in range(1,m+1):\n",
    "    a,b = list(map(int, input().split()))\n",
    "    A[a].append(b)\n",
    "print(A)"
   ]
  },
  {
   "cell_type": "code",
   "execution_count": 20,
   "metadata": {},
   "outputs": [
    {
     "name": "stdout",
     "output_type": "stream",
     "text": [
      "현재 방문 :  1\n",
      "다음 방문 부분 :  deque([2])\n",
      "다음 방문 부분 :  deque([2, 3])\n",
      "다음 방문 부분 :  deque([2, 3, 4])\n",
      "현재 방문 :  2\n",
      "현재 방문 :  3\n",
      "현재 방문 :  4\n",
      "[-1, 0, 1, 1, 1]\n",
      "-1\n"
     ]
    }
   ],
   "source": [
    "from collections import deque\n",
    "A = [[], [2, 3, 4], [], [], []]\n",
    "visited= [-1]*(n+1)\n",
    "check = 0\n",
    "answer = []\n",
    "\n",
    "def BFS(v):\n",
    "    queue = deque()\n",
    "    queue.append(v)\n",
    "    visited[v] += 1\n",
    "    while queue :\n",
    "        now_node = queue.popleft()\n",
    "        print(\"현재 방문 : \", now_node)\n",
    "        for i in A[now_node]:\n",
    "            if visited[i] == -1:\n",
    "                visited[i] = visited[now_node] + 1\n",
    "                queue.append(i)\n",
    "                print(\"다음 방문 부분 : \", queue)\n",
    "BFS(x)\n",
    "\n",
    "print(visited)\n",
    "for i in range(n+1):\n",
    "    if visited[i] == k :\n",
    "        answer.append(i)\n",
    "if not answer :\n",
    "    print(-1)\n",
    "else :\n",
    "    print(answer)"
   ]
  },
  {
   "cell_type": "markdown",
   "metadata": {},
   "source": [
    "# 문제 047 - 효율적으로 해킹하기"
   ]
  },
  {
   "cell_type": "markdown",
   "metadata": {},
   "source": [
    "- 신뢰하는 관계 => 이어져 있음\n",
    "- 한번에 가장 많은 컴퓨터를 해킹할 수 있는 컴퓨터의 벊호를 출력\n",
    "- BFS"
   ]
  },
  {
   "cell_type": "code",
   "execution_count": 22,
   "metadata": {},
   "outputs": [
    {
     "name": "stdout",
     "output_type": "stream",
     "text": [
      "[[], [], [], [1, 2], [3], [3]]\n"
     ]
    }
   ],
   "source": [
    "n, e = 5, 4\n",
    "A = [[] for _ in range(n+1)]\n",
    "for i in range(e):\n",
    "    a,b = list(map(int, input().split()))\n",
    "    A[a].append(b)\n",
    "print(A)"
   ]
  },
  {
   "cell_type": "markdown",
   "metadata": {},
   "source": []
  },
  {
   "cell_type": "code",
   "execution_count": 41,
   "metadata": {},
   "outputs": [
    {
     "name": "stdout",
     "output_type": "stream",
     "text": [
      "[0, 1, 1, 3, 2, 2]\n",
      "[1, 2]\n"
     ]
    }
   ],
   "source": [
    "A = [[], [], [], [1, 2], [3], [3]]\n",
    "answer = [0]* (n+1)\n",
    "from collections import deque\n",
    "\n",
    "def BFS(v):\n",
    "    queue = deque()\n",
    "    queue.append(v)\n",
    "    visited[v] = True\n",
    "    # 방문\n",
    "    while queue :\n",
    "        now_node = queue.popleft()\n",
    "        for i in A[v]:\n",
    "            if not visited[i]:\n",
    "                visited[i] = True\n",
    "                queue.append(i)\n",
    "\n",
    "for i in range(1,n+1):\n",
    "    visited = [False]*(n+1)\n",
    "    BFS(i)\n",
    "    answer[i] = visited.count(True)\n",
    "\n",
    "\n",
    "print(answer)\n",
    "maxVal = max(answer)\n",
    "for i in range(1,n+1):\n",
    "    if maxVal == answer[i]:\n",
    "        print(A[i])\n",
    "        break\n"
   ]
  },
  {
   "cell_type": "markdown",
   "metadata": {},
   "source": [
    "## 문제 048 - 이분 그래프 판별하기"
   ]
  },
  {
   "cell_type": "markdown",
   "metadata": {},
   "source": [
    "- 각 집합에 속한 노드끼리 서로 인접하지 않는 두 집합으로 그래프의 노드를 나눈 그래프 => 이분 그래프\n",
    "- DFS 사용"
   ]
  },
  {
   "cell_type": "code",
   "execution_count": 25,
   "metadata": {},
   "outputs": [
    {
     "name": "stdout",
     "output_type": "stream",
     "text": [
      "A :  [[], [2], [1, 3, 4], [2, 4], [3, 2]]\n",
      "불가능 \n",
      "불가능 \n",
      "no\n"
     ]
    }
   ],
   "source": [
    "k = 2\n",
    "n, e = 3,2\n",
    "\n",
    "def DFS(v):\n",
    "    global IsEven\n",
    "    visited[v]= True\n",
    "    \n",
    "    for i in A[v]:\n",
    "        if not visited[i]:\n",
    "            check[i] = (check[v]+1)%2\n",
    "            DFS(i)\n",
    "            \n",
    "        elif check[v]== check[i]:\n",
    "            print(\"불가능 \")\n",
    "            IsEven =False\n",
    "\n",
    "n, e = 4,4\n",
    "\n",
    "A = [[] for _ in range(n+1)]\n",
    "visited = [False]*(n+1)\n",
    "check = [0]*(n+1)\n",
    "IsEven = True\n",
    "    \n",
    "# for _ in range(e):\n",
    "#     a, b = list(map(int, input().split()))\n",
    "#     A[a].append(b)\n",
    "#     A[b].append(a)\n",
    "A = [[], [2], [1, 3, 4], [2, 4], [3, 2]]\n",
    "print(\"A : \", A)\n",
    "    \n",
    "for i in range(1, n+1):\n",
    "    if IsEven:\n",
    "        DFS(i)\n",
    "    else :\n",
    "        break\n",
    "\n",
    "if IsEven:\n",
    "    print(\"yes\")\n",
    "else :\n",
    "    print(\"no\")\n"
   ]
  },
  {
   "cell_type": "markdown",
   "metadata": {},
   "source": [
    "# 문제 049 - 물의 양 구하기"
   ]
  },
  {
   "cell_type": "markdown",
   "metadata": {},
   "source": [
    "- A,B,C (1<=A,B,C<=200) 물통이 존재, A,B는 비어있고, C는 가득 차있음\n",
    "- C의 물을 여러번 옮겼을 때, A가 비어 있을 때 C에 담겨 있을 수 있는 물의 양을 모두 구하는 문제\n",
    "- 경우의 수?"
   ]
  },
  {
   "cell_type": "code",
   "execution_count": 31,
   "metadata": {},
   "outputs": [
    {
     "name": "stdout",
     "output_type": "stream",
     "text": [
      "queue :  deque([(0, 0)])\n",
      "방문 상태 확인 :  [8, 0, 2]\n",
      "방문 상태 확인 :  [0, 9, 1]\n",
      "queue :  deque([(8, 0), (0, 9)])\n",
      "방문 상태 확인 :  [0, 8, 2]\n",
      "방문 상태 확인 :  [8, 2, 0]\n",
      "queue :  deque([(0, 9), (0, 8), (8, 2)])\n",
      "방문 상태 확인 :  [8, 1, 1]\n",
      "방문 상태 확인 :  [1, 9, 0]\n",
      "queue :  deque([(0, 8), (8, 2), (8, 1), (1, 9)])\n",
      "방문 상태 확인 :  [2, 8, 0]\n",
      "queue :  deque([(8, 2), (8, 1), (1, 9), (2, 8)])\n",
      "방문 상태 확인 :  [0, 2, 8]\n",
      "queue :  deque([(8, 1), (1, 9), (2, 8), (0, 2)])\n",
      "방문 상태 확인 :  [0, 1, 9]\n",
      "queue :  deque([(1, 9), (2, 8), (0, 2), (0, 1)])\n",
      "방문 상태 확인 :  [1, 0, 9]\n",
      "queue :  deque([(2, 8), (0, 2), (0, 1), (1, 0)])\n",
      "방문 상태 확인 :  [2, 0, 8]\n",
      "queue :  deque([(0, 2), (0, 1), (1, 0), (2, 0)])\n",
      "queue :  deque([(0, 1), (1, 0), (2, 0)])\n",
      "queue :  deque([(1, 0), (2, 0)])\n",
      "queue :  deque([(2, 0)])\n",
      "1 2 8 9 10 "
     ]
    }
   ],
   "source": [
    "from collections import deque\n",
    "\n",
    "SENDER = [0,0,1,1,2,2]\n",
    "RECEIVER = [1,2,0,2,0,1]\n",
    "now = [8,9,10]\n",
    "visited = [[False for j in range(201)] for i in range(201)]\n",
    "answer = [False]*201\n",
    "\n",
    "def BFS():\n",
    "    queue = deque()\n",
    "    queue.append((0,0))\n",
    "    visited[0][0] = True\n",
    "    answer[now[2]]= True    # 10 일단 저장\n",
    "    while queue :\n",
    "        # 처음 시작 [0,0,10]\n",
    "        print(\"queue : \", queue)\n",
    "        now_node = queue.popleft()\n",
    "        A = now_node[0]\n",
    "        B = now_node[1]\n",
    "        C = now[2] - A - B # C는 전체 물의 양에서 A,B를 뺀 것\n",
    "        for k in range(6): # A->B, A->C, B->A, B->C, C->A, C->B\n",
    "            next = [A,B,C]\n",
    "            next[RECEIVER[k]] += next[SENDER[k]]\n",
    "            next[SENDER[k]] = 0\n",
    "            if next[RECEIVER[k]] > now[RECEIVER[k]]: # 물이 넘칠때\n",
    "                # 초과만큼 이전 물통에 넣기\n",
    "                next[SENDER[k]] += next[RECEIVER[k]]- now[RECEIVER[k]]\n",
    "                next[RECEIVER[k]] = now[RECEIVER[k]] # 최대치로 채우기\n",
    "            if not visited[next[0]][next[1]] : # A와 B의 물의 양으로 방문 리스트 체크\n",
    "                print(\"방문 상태 확인 : \", next)\n",
    "                visited[next[0]][next[1]] = True\n",
    "                queue.append((next[0],next[1]))\n",
    "                if next[0] == 0:\n",
    "                    answer[next[2]] = True\n",
    "\n",
    "BFS()\n",
    "for i in range(len(answer)):\n",
    "    if answer[i]:\n",
    "        print(i, end=\" \")\n",
    "        "
   ]
  }
 ],
 "metadata": {
  "kernelspec": {
   "display_name": "base",
   "language": "python",
   "name": "python3"
  },
  "language_info": {
   "codemirror_mode": {
    "name": "ipython",
    "version": 3
   },
   "file_extension": ".py",
   "mimetype": "text/x-python",
   "name": "python",
   "nbconvert_exporter": "python",
   "pygments_lexer": "ipython3",
   "version": "3.9.13"
  },
  "orig_nbformat": 4
 },
 "nbformat": 4,
 "nbformat_minor": 2
}
