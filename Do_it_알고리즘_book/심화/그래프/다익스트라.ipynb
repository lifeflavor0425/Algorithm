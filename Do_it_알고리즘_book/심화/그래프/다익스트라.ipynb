{
 "cells": [
  {
   "cell_type": "markdown",
   "metadata": {},
   "source": [
    "# 다익스트라"
   ]
  },
  {
   "cell_type": "markdown",
   "metadata": {},
   "source": [
    "- 그래프에서 최단 거리를 구하는 알고리즘\n",
    "- 출발 노드와 모든 노드간의 최단 거리 탐색"
   ]
  },
  {
   "cell_type": "markdown",
   "metadata": {},
   "source": [
    "# 문제 056 - 최단 경로 구하기"
   ]
  },
  {
   "cell_type": "markdown",
   "metadata": {},
   "source": [
    "- 에지의 가중치가 10 이하의 그래프, 모든 노드로의 최단경로 문제"
   ]
  },
  {
   "cell_type": "code",
   "execution_count": 7,
   "metadata": {},
   "outputs": [
    {
     "name": "stdout",
     "output_type": "stream",
     "text": [
      "[[], [(2, 2), (3, 3)], [(3, 4), (4, 5)], [(4, 6)], [], [(1, 1)]]\n",
      "current :  (0, 1)\n",
      "tmp :  (2, 2)\n",
      "[9223372036854775807, 0, 9223372036854775807, 9223372036854775807, 9223372036854775807, 9223372036854775807]\n",
      "tmp :  (3, 3)\n",
      "[9223372036854775807, 0, 2, 9223372036854775807, 9223372036854775807, 9223372036854775807]\n",
      "current :  (2, 2)\n",
      "tmp :  (3, 4)\n",
      "[9223372036854775807, 0, 2, 3, 9223372036854775807, 9223372036854775807]\n",
      "tmp :  (4, 5)\n",
      "[9223372036854775807, 0, 2, 3, 9223372036854775807, 9223372036854775807]\n",
      "current :  (3, 3)\n",
      "tmp :  (4, 6)\n",
      "[9223372036854775807, 0, 2, 3, 7, 9223372036854775807]\n",
      "current :  (7, 4)\n",
      "0\n",
      "2\n",
      "3\n",
      "7\n",
      "INF\n"
     ]
    }
   ],
   "source": [
    "from queue import PriorityQueue\n",
    "import sys\n",
    "V, E = 5, 6\n",
    "K = 1\n",
    "distance = [sys.maxsize]*(V+1)\n",
    "visited = [False] * (V+1)\n",
    "my_list = [[] for _ in range(V+1)]\n",
    "q = PriorityQueue()\n",
    "\n",
    "for _ in range(E):\n",
    "    u,v,w = map(int, input().split()) # 가중치가 있는 인접 리스트 저장\n",
    "    my_list[u].append((v,w))\n",
    "print(my_list)\n",
    "\n",
    "q.put((0,K)) # (가중치=0,k)를 시작점으로 설정\n",
    "distance[K] = 0\n",
    "\n",
    "while q.qsize() > 0:\n",
    "    current = q.get()\n",
    "    print(\"current : \", current)\n",
    "    c_v = current[1]\n",
    "    visited[c_v] = True\n",
    "    for tmp in my_list[c_v]:\n",
    "        print(\"tmp : \", tmp)\n",
    "        next = tmp[0]\n",
    "        value = tmp[1]\n",
    "        print(distance)\n",
    "        if distance[next] > distance[c_v] + value :# 최소 거리로 업데이트\n",
    "            distance[next] = distance[c_v] + value\n",
    "            # 가중치가 정렬 기준이므로 순서를 가중치, 목표 노드 순으로 우선순위 큐 설정\n",
    "            q.put((distance[next], next))\n",
    "\n",
    "for i in range(1, V+1):\n",
    "    if visited[i]:\n",
    "        print(distance[i])\n",
    "    else :\n",
    "        print(\"INF\")"
   ]
  },
  {
   "cell_type": "markdown",
   "metadata": {},
   "source": [
    "# 복습 - 최단 경로 구하기"
   ]
  },
  {
   "cell_type": "markdown",
   "metadata": {},
   "source": [
    "- 에지의 가중치가 10이하의 자연수인 방향 그래프가 있다. 이 그래프의 시작점에서 다른 모든 노드로의 최단 경로를 구하시오"
   ]
  },
  {
   "cell_type": "code",
   "execution_count": 4,
   "metadata": {},
   "outputs": [
    {
     "name": "stdout",
     "output_type": "stream",
     "text": [
      "현재 노드 :  1\n",
      "다음 노드 :  2\n",
      "다음 가중치 :  2\n",
      "distance 갱신 : [100, 0, 2, 100, 100, 100]\n",
      "다음 노드 :  3\n",
      "다음 가중치 :  3\n",
      "distance 갱신 : [100, 0, 2, 3, 100, 100]\n",
      "현재 노드 :  2\n",
      "다음 노드 :  3\n",
      "다음 가중치 :  4\n",
      "다음 노드 :  4\n",
      "다음 가중치 :  5\n",
      "distance 갱신 : [100, 0, 2, 3, 7, 100]\n",
      "현재 노드 :  3\n",
      "다음 노드 :  4\n",
      "다음 가중치 :  6\n",
      "현재 노드 :  4\n",
      "distance 끝 :  [100, 0, 2, 3, 7, 100]\n",
      "0\n",
      "2\n",
      "3\n",
      "7\n",
      "INF\n"
     ]
    }
   ],
   "source": [
    "from queue import PriorityQueue\n",
    "n, m = 5,6\n",
    "my_list = [[] for _ in range(n+1)]\n",
    "distance = [ 100 for _ in range(n+1)]\n",
    "visited = [False] * (n+1)\n",
    "queue = PriorityQueue()\n",
    "\n",
    "\n",
    "for i in range(1,m+1):\n",
    "    u, v, w = map(int, input().split())\n",
    "    my_list[u].append((v,w))\n",
    "\n",
    "k = 1\n",
    "distance[k] = 0\n",
    "queue.put((0,k)) # (가중치, k=시작점) 최단거리 순서대로\n",
    "\n",
    "while queue.qsize() > 0 :\n",
    "    now = queue.get()\n",
    "    now_node = now[1]\n",
    "    visited[now_node] = True\n",
    "    print(\"현재 노드 : \", now_node)\n",
    "    for next in my_list[now_node]:\n",
    "        next_node = next[0]\n",
    "        next_value = next[1]\n",
    "        print(\"다음 노드 : \", next_node)\n",
    "        print(\"다음 가중치 : \", next_value)\n",
    "        if distance[next_node] > distance[now_node] + next_value:\n",
    "            distance[next_node] = distance[now_node] + next_value\n",
    "            print(\"distance 갱신 :\", distance)\n",
    "            queue.put((distance[next_value], next_node))\n",
    "\n",
    "print(\"distance 끝 : \", distance)\n",
    "for i in range(1,n+1):\n",
    "    if visited[i]:\n",
    "        print(distance[i])\n",
    "    else : \n",
    "        print(\"INF\")"
   ]
  },
  {
   "cell_type": "markdown",
   "metadata": {},
   "source": [
    "# 문제 057 - 최소 비용 구하기"
   ]
  },
  {
   "cell_type": "markdown",
   "metadata": {},
   "source": [
    "- n개의 도시, m개의 버스\n",
    "- A->B 도시까지 가는 버스 비용을 최소화 하는 문제"
   ]
  },
  {
   "cell_type": "code",
   "execution_count": 15,
   "metadata": {},
   "outputs": [
    {
     "name": "stdout",
     "output_type": "stream",
     "text": [
      "현재 노드 :  1\n",
      "현재 가중치 :  0\n",
      "visited :  [False, True, False, False, False, False]\n",
      "다음 노드 :  2\n",
      "다음 가중치 :  2\n",
      "distance 갱신 :  [100000, 0, 2, 100000, 100000, 100000]\n",
      "다음 노드 :  3\n",
      "다음 가중치 :  3\n",
      "distance 갱신 :  [100000, 0, 2, 3, 100000, 100000]\n",
      "다음 노드 :  4\n",
      "다음 가중치 :  1\n",
      "distance 갱신 :  [100000, 0, 2, 3, 1, 100000]\n",
      "다음 노드 :  5\n",
      "다음 가중치 :  10\n",
      "distance 갱신 :  [100000, 0, 2, 3, 1, 10]\n",
      "현재 노드 :  4\n",
      "현재 가중치 :  1\n",
      "visited :  [False, True, False, False, True, False]\n",
      "다음 노드 :  5\n",
      "다음 가중치 :  3\n",
      "distance 갱신 :  [100000, 0, 2, 3, 1, 4]\n",
      "현재 노드 :  2\n",
      "현재 가중치 :  2\n",
      "visited :  [False, True, True, False, True, False]\n",
      "다음 노드 :  4\n",
      "다음 가중치 :  2\n",
      "현재 노드 :  3\n",
      "현재 가중치 :  3\n",
      "visited :  [False, True, True, True, True, False]\n",
      "다음 노드 :  4\n",
      "다음 가중치 :  1\n",
      "다음 노드 :  5\n",
      "다음 가중치 :  1\n",
      "현재 노드 :  5\n",
      "현재 가중치 :  4\n",
      "visited :  [False, True, True, True, True, True]\n",
      "현재 노드 :  5\n",
      "현재 가중치 :  10\n",
      "4\n"
     ]
    }
   ],
   "source": [
    "from queue import PriorityQueue\n",
    "n, m = 5, 8\n",
    "my_list = [[] for _ in range(n+1)]\n",
    "distance = [100000]*(n+1)\n",
    "visited = [False]*(n+1)\n",
    "\n",
    "for i in range(1,m+1):\n",
    "    u,v,w = map(int, input().split())\n",
    "    my_list[u].append((v,w)) # (다음노드, 가중치)\n",
    "\n",
    "\n",
    "\n",
    "def dijkstra(start, end):\n",
    "    queue = PriorityQueue()\n",
    "    queue.put((0, start)) # (가중치, 다음노드) 최단비용 순\n",
    "    distance[start] = 0\n",
    "    \n",
    "    while queue.qsize()>0:\n",
    "        now = queue.get()\n",
    "        now_node = now[1]\n",
    "        now_value = now[0]\n",
    "        print(\"현재 노드 : \", now_node)\n",
    "        print(\"현재 가중치 : \", now_value)\n",
    "        \n",
    "        if not visited[now_node]:\n",
    "            visited[now_node] = True\n",
    "            print(\"visited : \", visited)\n",
    "            for next in my_list[now_node]:\n",
    "                next_node = next[0]\n",
    "                next_value = next[1]\n",
    "                print(\"다음 노드 : \", next_node)\n",
    "                print(\"다음 가중치 : \", next_value)\n",
    "                if not visited[next_node] and distance[next_node] > distance[now_node] + next_value:\n",
    "                    distance[next_node] = distance[now_node] + next_value\n",
    "                    print(\"distance 갱신 : \", distance)\n",
    "                    queue.put((distance[next_node], next_node))\n",
    "\n",
    "    return distance[end]\n",
    "\n",
    "# B 값만 출력\n",
    "start, end = map(int, input().split())\n",
    "print(dijkstra(start, end))"
   ]
  },
  {
   "cell_type": "markdown",
   "metadata": {},
   "source": [
    "# 문제 058 - k번째 최단 경로 찾기"
   ]
  },
  {
   "cell_type": "markdown",
   "metadata": {},
   "source": [
    "- k 번째 최단 경로 구하는 문제, '느림의 미학' ㅋ"
   ]
  },
  {
   "cell_type": "code",
   "execution_count": 38,
   "metadata": {},
   "outputs": [
    {
     "name": "stdout",
     "output_type": "stream",
     "text": [
      "현재 노드 :  1\n",
      "현재 가중치 :  0\n",
      "현재 노드 :  2\n",
      "현재 가중치 :  2\n",
      "현재 노드 :  4\n",
      "현재 가중치 :  4\n",
      "현재 노드 :  4\n",
      "현재 가중치 :  5\n",
      "현재 노드 :  3\n",
      "현재 가중치 :  6\n",
      "현재 노드 :  5\n",
      "현재 가중치 :  6\n",
      "현재 노드 :  3\n",
      "현재 가중치 :  7\n",
      "현재 노드 :  2\n",
      "현재 가중치 :  10\n",
      "현재 노드 :  5\n",
      "현재 가중치 :  14\n",
      "distance 0순위\n",
      "9223372036854775807 0 2 6 4 6 distance k순위\n",
      "9223372036854775807 9223372036854775807 10 7 5 14 -1\n",
      "10\n",
      "7\n",
      "5\n",
      "14\n"
     ]
    }
   ],
   "source": [
    "import sys\n",
    "import heapq\n",
    "n,m,k = 5, 10, 2\n",
    "w = [[] for _ in range(n+1)]\n",
    "distance = [[sys.maxsize]* k for _ in range(n+1)]\n",
    "\n",
    "for _ in range(m):\n",
    "    a,b,c = map(int, input().split())\n",
    "    w[a].append((b,c))\n",
    "    \n",
    "pq = [(0,1)] # (가중치, 시작 노드)\n",
    "distance[1][0] = 0\n",
    "\n",
    "while pq : # 변형된 다익스트라 수행\n",
    "    now_cost, now_node = heapq.heappop(pq)\n",
    "    print(\"현재 노드 : \", now_node)\n",
    "    print(\"현재 가중치 : \", now_cost)\n",
    "    for next_node, next_cost in w[now_node]:\n",
    "        sum_cost = now_cost + next_cost\n",
    "        if distance[next_node][k-1] > sum_cost:\n",
    "            distance[next_node][k-1] = sum_cost\n",
    "            distance[next_node].sort()\n",
    "            heapq.heappush(pq, (sum_cost, next_node))\n",
    "\n",
    "print(\"distance 0순위\")\n",
    "for i in range(len(distance)):\n",
    "    print(distance[i][0], end=\" \")\n",
    "print(\"\\n\")\n",
    "print(\"distance k순위\")\n",
    "for i in range(len(distance)):\n",
    "    print(distance[i][1], end=\" \")\n",
    "\n",
    "print(\"\\n\")\n",
    "for i in range(1,n+1):\n",
    "    if distance[i][k-1] == sys.maxsize:\n",
    "        print(-1)\n",
    "    else :\n",
    "        print(distance[i][k-1])"
   ]
  }
 ],
 "metadata": {
  "kernelspec": {
   "display_name": "base",
   "language": "python",
   "name": "python3"
  },
  "language_info": {
   "codemirror_mode": {
    "name": "ipython",
    "version": 3
   },
   "file_extension": ".py",
   "mimetype": "text/x-python",
   "name": "python",
   "nbconvert_exporter": "python",
   "pygments_lexer": "ipython3",
   "version": "3.9.13"
  },
  "orig_nbformat": 4
 },
 "nbformat": 4,
 "nbformat_minor": 2
}
