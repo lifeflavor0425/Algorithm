{
 "cells": [
  {
   "cell_type": "markdown",
   "metadata": {},
   "source": [
    "# 위상 정렬"
   ]
  },
  {
   "cell_type": "markdown",
   "metadata": {},
   "source": [
    "- 사이클이 없는 방향 그래프에서 노드 순서를 찾는 알고리즘\n",
    "- 위상 정렬은 항상 유일한 값으로 정렬되지 않음\n",
    "- 사이클이 존재하면 노드 간의 순서를 명확하게 정의할 수 없기 때문에 불가능"
   ]
  },
  {
   "cell_type": "markdown",
   "metadata": {},
   "source": [
    "# 문제 053 - 줄세우기"
   ]
  },
  {
   "cell_type": "markdown",
   "metadata": {},
   "source": [
    "- n명의 학생들을 키 순서대로 줄을 세우는 문제\n",
    "- 두 학생의 키를 비교하면서, 일부만"
   ]
  },
  {
   "cell_type": "code",
   "execution_count": 8,
   "metadata": {},
   "outputs": [
    {
     "name": "stdout",
     "output_type": "stream",
     "text": [
      "[[], [], [], [1], [2]]\n",
      "[0, 1, 1, 0, 0]\n",
      "deque([3, 4])\n",
      "3 4 1 2 "
     ]
    }
   ],
   "source": [
    "n, e = 4, 2\n",
    "A = [[]for _ in range(n+1)]\n",
    "indegree = [0]*(n+1) # 차수 리스트로 계산\n",
    "\n",
    "for i in range(e):\n",
    "    s, l = map(int, input().split())\n",
    "    A[s].append(l)\n",
    "    indegree[l] += 1\n",
    "\n",
    "print(A)\n",
    "from collections import deque\n",
    "queue = deque() # 차수 적은 순서대로 삽입\n",
    "for i in range(1,n+1):\n",
    "    if indegree[i] == 0:\n",
    "        queue.append(i)\n",
    "\n",
    "print(indegree)\n",
    "print(queue)\n",
    "\n",
    "while queue: # 위상 정렬 수행\n",
    "    now = queue.popleft()\n",
    "    print(now, end=' ')\n",
    "    for next in A[now]:\n",
    "        indegree[next] -= 1\n",
    "        if indegree[next] == 0:\n",
    "            queue.append(next)\n"
   ]
  },
  {
   "cell_type": "markdown",
   "metadata": {},
   "source": [
    "# 문제 054 - 게임 개발하기"
   ]
  },
  {
   "cell_type": "markdown",
   "metadata": {},
   "source": [
    "- 스타크래프트 건물은 순서가 있을 수 있다. ex) 배럭 -> 벙커\n",
    "- 여러 개의 건물을 동시에 지을 수도 있다.\n",
    "- n개의 건물을 지을 때 각 건물을 짓기 위해 필요한 최소 시간"
   ]
  },
  {
   "cell_type": "code",
   "execution_count": 19,
   "metadata": {},
   "outputs": [
    {
     "name": "stdout",
     "output_type": "stream",
     "text": [
      "A :  [[], [2, 3, 4], [], [4, 5], [], []]\n",
      "indegree :  [0, 0, 1, 1, 2, 1]\n",
      "selfBuild :  [0, 10, 10, 4, 4, 3]\n",
      "[0, 0, 0, 0, 0, 0]\n",
      "[0, 0, 10, 0, 0, 0]\n",
      "[0, 0, 10, 10, 0, 0]\n",
      "[0, 0, 10, 10, 10, 0]\n",
      "[0, 0, 10, 10, 14, 0]\n",
      "10\n",
      "20\n",
      "14\n",
      "18\n",
      "17\n"
     ]
    }
   ],
   "source": [
    "from collections import deque\n",
    "\n",
    "n = 5 # 건물 종류 수\n",
    "A = [ [] for _ in range(n+1)]\n",
    "indegree = [0]*(n+1)\n",
    "selfBuild = [0]*(n+1)\n",
    "\n",
    "for i in range(1, n+1):\n",
    "    inputList = list(map(int, input().split()))\n",
    "    selfBuild[i] = (inputList[0]) # 건물을 짓는데 걸리는 시간\n",
    "    index = 1\n",
    "    while True: # 인접 리스트 만들기\n",
    "        preTemp = inputList[index]\n",
    "        index += 1\n",
    "        if preTemp == -1:\n",
    "            break\n",
    "        A[preTemp].append(i)\n",
    "        indegree[i] += 1\n",
    "\n",
    "print(\"A : \", A)\n",
    "print(\"indegree : \", indegree)\n",
    "print(\"selfBuild : \", selfBuild)\n",
    "\n",
    "queue = deque()\n",
    "# 시작 값 설정\n",
    "for i in range(1,n+1):\n",
    "    if indegree[i] == 0:\n",
    "        queue.append(i)\n",
    "\n",
    "result = [0]*(n+1)\n",
    "while queue:\n",
    "    now = queue.popleft()\n",
    "    for next in A[now]:\n",
    "        indegree[next] -= 1\n",
    "        # 시간 업데이트\n",
    "        print(result)\n",
    "        result[next] = max(result[next], result[now] + selfBuild[now])\n",
    "        if indegree[next] == 0:\n",
    "            queue.append(next)\n",
    "\n",
    "for i in range(1,n+1):\n",
    "    print(result[i] + selfBuild[i])"
   ]
  },
  {
   "cell_type": "markdown",
   "metadata": {},
   "source": [
    "# 문제 055 - 임게 경로 구하기"
   ]
  },
  {
   "cell_type": "markdown",
   "metadata": {},
   "source": [
    "- 모든 도로가 일방통행, 사이클 없음 => 위상 정렬\n",
    "- 모든 경로 탐색, 도착 도시에서 만나는 최소 시간, 1분도 쉬지 않고 달려야 하는 사람들이 지나는 도로의 수를 계산 하는 문제"
   ]
  },
  {
   "cell_type": "markdown",
   "metadata": {},
   "source": [
    "- 에지 뒤집기 : 에지의 방향이 반대인 역방향 리스트도 함께 생성하고 저장하면서 푸는 방법"
   ]
  },
  {
   "cell_type": "code",
   "execution_count": 20,
   "metadata": {},
   "outputs": [
    {
     "name": "stdout",
     "output_type": "stream",
     "text": [
      "A :  [[], [(2, 4), (3, 2), (4, 3)], [(6, 3), (7, 5)], [(5, 1)], [(6, 4)], [(6, 2)], [(7, 5)], []]\n",
      "indegree :  [0, 0, 1, 1, 1, 1, 3, 2]\n",
      "queue :  deque([1])\n",
      "queue :  deque([2, 3, 4])\n",
      "queue :  deque([3, 4])\n",
      "queue :  deque([4, 5])\n",
      "queue :  deque([5])\n",
      "queue :  deque([6])\n",
      "queue :  deque([7])\n",
      "result :  [0, 0, 4, 2, 3, 3, 7, 12]\n",
      "------------\n",
      "reverseA :  [[], [], [(1, 4)], [(1, 2)], [(1, 3)], [(3, 1)], [(2, 3), (4, 4), (5, 2)], [(2, 5), (6, 5)]]\n",
      "12\n",
      "5\n"
     ]
    }
   ],
   "source": [
    "from collections import deque\n",
    "n = 7 # 도시 수\n",
    "m = 9 # 도로 수\n",
    "A = [[] for _ in range(n+1)]\n",
    "reverseA = [[] for _ in range(n+1)]\n",
    "indegree = [0]*(n+1)\n",
    "\n",
    "for i in range(m):\n",
    "    s, e, v = map(int, input().split())\n",
    "    A[s].append((e,v))\n",
    "    reverseA[e].append((s,v))\n",
    "    indegree[e] += 1\n",
    "\n",
    "print(\"A : \", A)\n",
    "print(\"indegree : \", indegree)\n",
    "\n",
    "startDosi, endDosi = 1, 7 # 출발도시, 도착도시\n",
    "queue = deque()\n",
    "queue.append(startDosi)\n",
    "result = [0]*(n+1)\n",
    "\n",
    "while queue :\n",
    "    print(\"queue : \", queue)\n",
    "    now = queue.popleft()\n",
    "    for next in A[now]:\n",
    "        indegree[next[0]] -= 1\n",
    "        result[next[0]] = max(result[next[0]], result[now] + next[1])\n",
    "        if indegree[next[0]]==0:\n",
    "            queue.append(next[0])\n",
    "\n",
    "print(\"result : \", result)\n",
    "print(\"------------\")\n",
    "\n",
    "print(\"reverseA : \", reverseA)\n",
    "resultCount = 0\n",
    "visited = [False]*(n+1)\n",
    "queue.clear()\n",
    "queue.append(endDosi)\n",
    "visited[endDosi] = True\n",
    "\n",
    "while queue:\n",
    "    now = queue.popleft()\n",
    "    for next in reverseA[now]:\n",
    "        # 1분도 쉬지 않는 도로\n",
    "        if result[next[0]] + next[1] == result[now]:\n",
    "            resultCount +=1\n",
    "            if not visited[next[0]]:\n",
    "                visited[next[0]] = True\n",
    "                queue.append(next[0])\n",
    "\n",
    "print(result[endDosi])\n",
    "print(resultCount)"
   ]
  }
 ],
 "metadata": {
  "kernelspec": {
   "display_name": "base",
   "language": "python",
   "name": "python3"
  },
  "language_info": {
   "codemirror_mode": {
    "name": "ipython",
    "version": 3
   },
   "file_extension": ".py",
   "mimetype": "text/x-python",
   "name": "python",
   "nbconvert_exporter": "python",
   "pygments_lexer": "ipython3",
   "version": "3.9.13"
  },
  "orig_nbformat": 4
 },
 "nbformat": 4,
 "nbformat_minor": 2
}
