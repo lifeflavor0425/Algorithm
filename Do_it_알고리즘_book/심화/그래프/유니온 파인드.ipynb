{
 "cells": [
  {
   "cell_type": "markdown",
   "metadata": {},
   "source": [
    "# 유니온 파인드"
   ]
  },
  {
   "cell_type": "markdown",
   "metadata": {},
   "source": [
    "- 특정 2개의 노드를 연결해 1개의 집합으로 묶는 union 연산과 두 노드가 같은 집합에 있는지를 확인하는 find 연산으로 구성된 알고리즘"
   ]
  },
  {
   "cell_type": "markdown",
   "metadata": {},
   "source": [
    "# 문제 050 - 집합 표현하기"
   ]
  },
  {
   "cell_type": "markdown",
   "metadata": {},
   "source": [
    "- n+1 개의 집합을 이루고 있다.\n",
    "- 합집합 연산과 두 원소가 같은 집합에 포함돼 있는지 확인하는 문제"
   ]
  },
  {
   "cell_type": "code",
   "execution_count": 2,
   "metadata": {},
   "outputs": [
    {
     "name": "stdout",
     "output_type": "stream",
     "text": [
      "parent [0, 1, 2, 3, 4, 5, 6, 7]\n",
      "parent [0, 1, 2, 1, 4, 5, 6, 7]\n",
      "no\n",
      "parent [0, 1, 2, 1, 4, 5, 7, 7]\n",
      "no\n",
      "parent [0, 1, 2, 1, 4, 5, 7, 1]\n",
      "parent [0, 1, 4, 1, 4, 5, 7, 1]\n",
      "parent [0, 1, 4, 1, 4, 5, 7, 1]\n",
      "yes\n"
     ]
    }
   ],
   "source": [
    "n,m = 7,8\n",
    "parent = [0]*(n+1)\n",
    "\n",
    "for i in range(0,n+1):\n",
    "    parent[i]= i\n",
    "print(\"parent\",parent)\n",
    "def find(a): # find 연산\n",
    "    if a == parent[a]:\n",
    "        return a\n",
    "    else :\n",
    "        parent[a]= find(parent[a])\n",
    "        return parent[a]\n",
    "\n",
    "def union(a,b):\n",
    "    a = find(a)\n",
    "    b = find(b)\n",
    "    if a!=b:\n",
    "        parent[b] = a\n",
    "\n",
    "def checkSame(a,b):\n",
    "    a = find(a)\n",
    "    b = find(b)\n",
    "    if a==b:\n",
    "        return True\n",
    "    return False\n",
    "\n",
    "for i in range(m):\n",
    "    question, a, b = map(int,input().split())\n",
    "    if question == 0:\n",
    "        union(a,b)\n",
    "        print(\"parent\",parent)\n",
    "        \n",
    "    else :\n",
    "        if checkSame(a,b):\n",
    "            print(\"yes\")\n",
    "        else:\n",
    "            print(\"no\")\n"
   ]
  },
  {
   "cell_type": "markdown",
   "metadata": {},
   "source": [
    "# 문제 051 - 여행 계획 짜기"
   ]
  },
  {
   "cell_type": "markdown",
   "metadata": {},
   "source": [
    "- 도시 n개, 길이 있을 수도 없을 수도 있다.\n",
    "- 도시의 개수, 도시 간의 연결 여부가 주어질 때, 도시들이 순서대로 여행이 가능한지 판별하는 문제"
   ]
  },
  {
   "cell_type": "code",
   "execution_count": 25,
   "metadata": {},
   "outputs": [
    {
     "name": "stdout",
     "output_type": "stream",
     "text": [
      "[0, 1, 2, 3]\n",
      "[0, 0, 0, 0]\n",
      "[0, 0, 1, 0]\n",
      "[0, 1, 0, 1]\n",
      "[0, 0, 1, 0]\n",
      "parent :  [0, 1, 1, 1]\n",
      "index :  1\n",
      "route :  [0, 1, 2, 3]\n",
      "yes\n"
     ]
    }
   ],
   "source": [
    "n = 3\n",
    "data = 3\n",
    "route = [1,2,3] # 여행 순서\n",
    "route.insert(0,0)\n",
    "parent = [0]*(n+1)\n",
    "city = [[ 0 for _ in range(n+1)] for _ in range(n+1)]\n",
    "\n",
    "for i in range(1,n+1):\n",
    "    parent[i]= i\n",
    "\n",
    "for i in range(1,n+1):\n",
    "    city[i] = list(map(int, input().split()))\n",
    "    city[i].insert(0,0)\n",
    "\n",
    "print(parent)\n",
    "for i in range(n+1):\n",
    "    print(city[i])\n",
    "\n",
    "# 유니온 사전 세팅\n",
    "for i in range(1,data+1):\n",
    "    for j in range(1,data+1):\n",
    "        if city[i][j]==1:\n",
    "            union(i,j)\n",
    "\n",
    "def find(e):\n",
    "    if e == parent[e]:\n",
    "        return e\n",
    "    else :\n",
    "        parent[e] = find(parent[e])\n",
    "        return parent[e]\n",
    "\n",
    "def union(a,b):\n",
    "    a = find(a)\n",
    "    b = find(b)\n",
    "    if a!=b:\n",
    "        parent[b]= a\n",
    "\n",
    "index = find(route[1])\n",
    "isConnect = True\n",
    "print(\"parent : \", parent)\n",
    "print(\"index : \", index)\n",
    "print(\"route : \", route)\n",
    "for i in range(2,len(route)):\n",
    "    if index != find(route[i]):\n",
    "        isConnect =False\n",
    "        break\n",
    "if isConnect:\n",
    "    print(\"yes\")\n",
    "else :\n",
    "    print(\"no\")\n",
    "\n",
    "\n",
    "\n"
   ]
  },
  {
   "cell_type": "markdown",
   "metadata": {},
   "source": [
    "# 문제 052 - 거짓말쟁이가 되긴 싫어"
   ]
  },
  {
   "cell_type": "markdown",
   "metadata": {},
   "source": [
    "- 사람의 수 n, 진실을 아는 사람 T와 번호, 그 개수만큼 사람들의 번호가 주어짐\n",
    "- 각 파티마다 오는 사람의 수와 번호가 m번 주어짐 \n",
    "- 진실을 아는 사람을 피하면서 거짓말을 할 횟수 구하는 문제"
   ]
  },
  {
   "cell_type": "code",
   "execution_count": 70,
   "metadata": {},
   "outputs": [
    {
     "name": "stdout",
     "output_type": "stream",
     "text": [
      "4 [1, 2, 3, 4]\n",
      "parent :  [0, 1, 2, 3, 4, 1, 2, 7, 7, 9, 3]\n",
      "[[1, 5], [2, 6], [7], [8], [7, 8], [9], [10], [3, 10], [4]]\n",
      "4\n"
     ]
    }
   ],
   "source": [
    "n, m = 10, 9 # 사람수, 파티 수\n",
    "trueP= [4, 1, 2, 3, 4] # 진실을 아는 사람\n",
    "T = trueP[0]\n",
    "del trueP[0]\n",
    "print(T, trueP)\n",
    "party = [ [] for _ in range(m)]\n",
    "parent = [0]*(n+1)\n",
    "\n",
    "for i in range(1,n+1):\n",
    "    parent[i] = i\n",
    "# 진실을 아는 사람을 한 집합으로 묶음 -> x // 파티 사람을 묶어서 확인해야함\n",
    "def union(a,b):\n",
    "    a = find(a)\n",
    "    b = find(b)\n",
    "    if a != b:\n",
    "        parent[b] = a\n",
    "\n",
    "def find(e):\n",
    "    if e == parent[e]:\n",
    "        return e\n",
    "    else :\n",
    "        parent[e] = find(parent[e])\n",
    "        return parent[e]\n",
    "\n",
    "# + 파티에 참석한 사람과 만났을 경우도 포함\n",
    "for i in range(m):\n",
    "    party[i] = list(map(int, input().split()))\n",
    "    del party[i][0]\n",
    "    for p in range(1,len(party[i])):\n",
    "        union(party[i][0], party[i][p])\n",
    "\n",
    "print(\"parent : \",parent)\n",
    "print(party)\n",
    "success = 0\n",
    "for i in range(m):\n",
    "    check = True\n",
    "    firstPeople = party[i][0]\n",
    "    for j in range(T):\n",
    "        if find(firstPeople) == find(trueP[j]):\n",
    "            check = False\n",
    "            break\n",
    "    if check :\n",
    "        success += 1\n",
    "\n",
    "print(success)"
   ]
  },
  {
   "cell_type": "markdown",
   "metadata": {},
   "source": [
    "### 풀이"
   ]
  },
  {
   "cell_type": "code",
   "execution_count": 64,
   "metadata": {},
   "outputs": [
    {
     "name": "stdout",
     "output_type": "stream",
     "text": [
      "1 [1]\n",
      "[2]\n",
      "[3]\n",
      "2\n"
     ]
    }
   ],
   "source": [
    "n, m = 4, 5 # 사람수, 파티 수\n",
    "trueP= [1,1] # 진실을 아는 사람\n",
    "T = trueP[0]\n",
    "del trueP[0]\n",
    "print(T, trueP)\n",
    "party = [[] for _ in range(m)]\n",
    "\n",
    "result = 0\n",
    "\n",
    "def find(a):\n",
    "    if a == parent[a]:\n",
    "        return a\n",
    "    else :\n",
    "        parent[a] = find(parent[a])\n",
    "        return parent[a]\n",
    "\n",
    "def union(a,b):\n",
    "    a = find(a)\n",
    "    b = find(b)\n",
    "    if a != b:\n",
    "        parent[b] = a\n",
    "\n",
    "def checkSame(a,b):\n",
    "    a = find(a)\n",
    "    b = find(b)\n",
    "    if a==b:\n",
    "        return True\n",
    "    return False\n",
    "\n",
    "for i in range(m):\n",
    "    party[i] = list(map(int, input().split()))\n",
    "    del party[i][0]\n",
    "\n",
    "parent = [0]*(n+1)\n",
    "\n",
    "for i in range(n+1):\n",
    "    parent[i] = i\n",
    "\n",
    "for i in range(m):\n",
    "    firstPeople = party[i][0]\n",
    "    for j in range(1, len(party[i])):\n",
    "        union(firstPeople, party[i][j])\n",
    "\n",
    "for i in range(m):\n",
    "    isPossible = True\n",
    "    firstPeople = party[i][0]\n",
    "    for j in range(len(trueP)):\n",
    "        if find(firstPeople) == find(trueP[j]):\n",
    "            isPossible = False\n",
    "            break\n",
    "    if isPossible:\n",
    "        print(party[i])\n",
    "        result +=1\n",
    "        \n",
    "print(result)"
   ]
  }
 ],
 "metadata": {
  "kernelspec": {
   "display_name": "base",
   "language": "python",
   "name": "python3"
  },
  "language_info": {
   "codemirror_mode": {
    "name": "ipython",
    "version": 3
   },
   "file_extension": ".py",
   "mimetype": "text/x-python",
   "name": "python",
   "nbconvert_exporter": "python",
   "pygments_lexer": "ipython3",
   "version": "3.9.13"
  },
  "orig_nbformat": 4
 },
 "nbformat": 4,
 "nbformat_minor": 2
}
