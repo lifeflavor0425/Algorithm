{
 "cells": [
  {
   "cell_type": "markdown",
   "metadata": {},
   "source": [
    "# 최소 신장 트리"
   ]
  },
  {
   "cell_type": "markdown",
   "metadata": {},
   "source": [
    "- 그래프에서 모든 노드를 연결할 때 사용된 에지들의 가중치의 합을 최소로 하는 트리"
   ]
  },
  {
   "cell_type": "markdown",
   "metadata": {},
   "source": [
    "- 사이클이 포함되면 가중치 합이 최소가 될 수 없음 -> 사이클을 포함 x\n",
    "- n개의 노드 -> 에지의 개수는 항상 n-1"
   ]
  },
  {
   "cell_type": "markdown",
   "metadata": {},
   "source": [
    "- 유니온 파인드를 사용해서 사이클이 되지 않도록 구현\n",
    "- 가중치들의 합이 가장 작은 한가지 경로(하나의 최소값 집합)를 탐색"
   ]
  },
  {
   "cell_type": "markdown",
   "metadata": {},
   "source": [
    "# 문제 064 - 최소 신장 트리 구하기"
   ]
  },
  {
   "cell_type": "code",
   "execution_count": 2,
   "metadata": {},
   "outputs": [
    {
     "name": "stdout",
     "output_type": "stream",
     "text": [
      "가중치, 출발, 도착 :  | 1 | 1 | 2\n",
      "parent :  [0, 1, 1, 3]\n",
      "가중치, 출발, 도착 :  | 2 | 2 | 3\n",
      "parent :  [0, 1, 1, 1]\n",
      "3\n"
     ]
    }
   ],
   "source": [
    "import sys\n",
    "from queue import PriorityQueue\n",
    "n, m = 3,3\n",
    "pq = PriorityQueue()\n",
    "parent = [0]*(n+1)\n",
    "\n",
    "for i in range(n+1):\n",
    "    parent[i] = i\n",
    "\n",
    "for i in range(m):\n",
    "    s, e, w = map(int, input().split())\n",
    "    pq.put((w,s,e)) # (가중치, 출발, 도착)\n",
    "\n",
    "def find(a):\n",
    "    if a == parent[a]:\n",
    "        return a\n",
    "    else :\n",
    "        parent[a] = find(parent[a])\n",
    "        return parent[a]\n",
    "\n",
    "def union(a,b):\n",
    "    a = find(a)\n",
    "    b = find(b)\n",
    "    if a!=b:\n",
    "        parent[b] = a\n",
    "\n",
    "useEdge = 0\n",
    "result = 0\n",
    "\n",
    "while useEdge < n-1:\n",
    "    w,s,e = pq.get()\n",
    "    print(\"가중치, 출발, 도착 : \", w,s,e,sep=' | ')\n",
    "    if find(s) != find(e):\n",
    "        union(s,e)\n",
    "        result += w\n",
    "        useEdge += 1\n",
    "    print(\"parent : \", parent)\n",
    "\n",
    "print(result)\n",
    "\n"
   ]
  },
  {
   "cell_type": "markdown",
   "metadata": {},
   "source": [
    "# 문제 065 - 다리 만들기"
   ]
  },
  {
   "cell_type": "markdown",
   "metadata": {},
   "source": [
    "- 지도 n*m 크기, 땅이거나 바다\n",
    "- 다리는 바다에만 건설 가능, 다리를 연결에 모든 섬을 연결하는 문제\n",
    "- 다리는 가로, 세로로만 건설 가능\n",
    "- 다리의 길이는 2 이상, 다리가 겹쳐도 그냥 합한다."
   ]
  },
  {
   "cell_type": "code",
   "execution_count": null,
   "metadata": {},
   "outputs": [],
   "source": [
    "import sys\n",
    "import copy\n",
    "from collections import deque\n",
    "from queue import PriorityQueue\n",
    "\n",
    "dr = [0,1,0,-1]\n",
    "dc = [1,0,-1,0]\n",
    "\n",
    "n, m = 7, 8\n",
    "myMap = [[[0 for _ in range(m)] for _ in range(n)]]\n",
    "visited = [[False for _ in range(m)] for _ in range(n)]\n",
    "\n",
    "for i in range(n):\n",
    "    myMap[i] = list(map(int, input().split()))\n",
    "\n",
    "sNum = 1\n",
    "sum_list = list([])\n",
    "m_list = []\n",
    "\n",
    "def addNode(i, j, queue):\n",
    "    myMap[i][j] = sNum\n",
    "    visited[i][j] = True\n",
    "    temp = [i,j]\n",
    "    m_list.append(temp)\n",
    "    queue.append(temp)\n",
    "\n",
    "def BFS(i,j):\n",
    "    queue = deque()\n",
    "    m_list.clear()\n",
    "    start = [i,j]\n",
    "    queue.append(start)\n",
    "    m_list.append(start)\n",
    "    visited[i][j] = True\n",
    "    myMap[i][j] = sNum\n",
    "    \n",
    "    while queue:\n",
    "        r,c = queue.popleft()\n",
    "        for d in range(4):\n",
    "            tempR = dr[d]\n",
    "            tempC = dc[d]\n",
    "            while r+tempR >= 0 and r+tempR < n and c+tempC >=0 and c+tempC<m:\n",
    "                if not visited[r+tempR][c+tempC] and myMap[r+tempR][c+tempC] != 0:\n",
    "                    addNode(r+tempR, c+tempC, queue)\n",
    "                else :\n",
    "                    break\n",
    "                if tempR <0:\n",
    "                    tempR -=1\n",
    "                elif tempR >0:\n",
    "                    tempR += 1\n",
    "                elif tempC < 0:\n",
    "                    tempC -=1\n",
    "                elif tempC > 0:\n",
    "                    tempC += 1\n",
    "    return m_list\n",
    "\n",
    "for i in range(n):\n",
    "    for j in range(m):\n",
    "        if myMap[i][j] != 0 and not visited[i][j]:\n",
    "            # 깊은 복사로 해야 주소를 공유하지 않음\n",
    "            tempList = copy.deepcopy(BFS(i,j))\n",
    "            sNum += 1\n",
    "            sum_list.append(tempList)\n",
    "\n",
    "pq = PriorityQueue()\n",
    "\n",
    "for now in sum_list: # 섬의 각 지점에서 만들 수 있는 모든 에지를 저장\n",
    "    for temp in now:\n",
    "        r = temp[0]\n",
    "        c = temp[1]\n",
    "        now_S = myMap[r][c]\n",
    "        for d in range(4): # 4방향 검색\n",
    "            tempR = dr[d]\n",
    "            tempC = dc[d]\n",
    "            blength = 0\n",
    "            while r+tempR >= 0 and r+tempR < n and c+tempC >=0 and c+tempC<m:\n",
    "                # 같은 섬이면 에지 안만듬\n",
    "                if myMap[r+tempR][c+tempC] == now_S:\n",
    "                    break\n",
    "                # 같은섬도 아니고 바다도 아니면\n",
    "                elif myMap[r+tempR][c+tempC] !=0:\n",
    "                    if blength > 1: # 다른섬 -> 길이가 1이상일 때 에지로 더하기\n",
    "                        pq.put((blength, now_S, myMap[r+tempR][c+tempC]))\n",
    "                    break\n",
    "                else :\n",
    "                    blength += 1\n",
    "                if tempR <0:\n",
    "                    tempR -=1\n",
    "                elif tempR >0:\n",
    "                    tempR += 1\n",
    "                elif tempC < 0:\n",
    "                    tempC -=1\n",
    "                elif tempC > 0:\n",
    "                    tempC += 1\n",
    "def find(a):\n",
    "    if a == parent[a]:\n",
    "        return a\n",
    "    else : \n",
    "        parent[a] = find(parent[a])\n",
    "        return parent[a]\n",
    "def union(a,b):\n",
    "    a = find(a)\n",
    "    b = find(b)\n",
    "    if a != b:\n",
    "        parent[b] = a\n",
    "\n",
    "parent = [0]*sNum\n",
    "\n",
    "for i in range(len(parent)):\n",
    "    parent[i] = i\n",
    "\n",
    "useEdge =0\n",
    "result = 0\n",
    "\n",
    "while pq.qsize() > 0: # 최소 신장 트리 알고리즈 쑤행\n",
    "    v,s,e = pq.get()\n",
    "    if find(s) != find(e):\n",
    "        union(s,e)\n",
    "        result += v\n",
    "        useEdge += 1\n",
    "\n",
    "if useEdge == sNum -2: # sNum이 실제 섬의 수보다 1 크기 때문에 섬의 번호 표시를 위헤 -2로 연산\n",
    "    print(result)\n",
    "else:\n",
    "    print(-1)"
   ]
  },
  {
   "cell_type": "markdown",
   "metadata": {},
   "source": [
    "# 문제 066 - 불우이웃돕기"
   ]
  },
  {
   "cell_type": "markdown",
   "metadata": {},
   "source": [
    "- n개의 방-컴퓨터, 컴퓨터를 서로 연결하는 문제\n",
    "- 랜선의 길이가 주어질 때, 기부할 수 있는 랜선의 길이의 최댓값 출력"
   ]
  },
  {
   "cell_type": "markdown",
   "metadata": {},
   "source": [
    "- a~z(1~26) / A~Z(27~52), 0일 경우는 i,j가 연결 x "
   ]
  },
  {
   "cell_type": "code",
   "execution_count": 24,
   "metadata": {},
   "outputs": [
    {
     "name": "stdout",
     "output_type": "stream",
     "text": [
      "[1, 2, 3]\n",
      "[4, 5, 6]\n",
      "[7, 8, 9]\n",
      "40\n"
     ]
    }
   ],
   "source": [
    "from queue import PriorityQueue\n",
    "n = 3\n",
    "parent = [0] * (n)\n",
    "queue = PriorityQueue()\n",
    "\n",
    "for i in range(n):\n",
    "    parent[i] = i\n",
    "\n",
    "suum = 0\n",
    "for i in range(n):\n",
    "    input_list = list(map(lambda x: ord(x) - 96,[txt for txt in input()]))\n",
    "    print(input_list)\n",
    "    for j in range(n):\n",
    "        if input_list[j] < 0:\n",
    "            input_list[j] += 58\n",
    "        elif input_list[j] == 48:\n",
    "            input_list[j] = 0\n",
    "        suum += input_list[j] # 총 랜선의 길이\n",
    "        if i != j and input_list[j] != 0:\n",
    "            queue.put((input_list[j], i , j))\n",
    "\n",
    "def find(a):\n",
    "    if a == parent[a]:\n",
    "        return a\n",
    "    else :\n",
    "        parent[a] = find(parent[a])\n",
    "        return parent[a]\n",
    "\n",
    "def union(a,b):\n",
    "    a = find(a)\n",
    "    b = find(b)\n",
    "    if a != b:\n",
    "        parent[b] = a\n",
    "\n",
    "useEdge = 0\n",
    "result = 0\n",
    "# 최소 신장트리 실행\n",
    "while queue.qsize() > 0:\n",
    "    w, s, e = queue.get()\n",
    "    if find(s) != find(e):\n",
    "        union(s,e)\n",
    "        result += w\n",
    "        useEdge += 1\n",
    "\n",
    "if useEdge == n-1 :\n",
    "    print(suum - result)\n",
    "else :\n",
    "    print(-1)"
   ]
  }
 ],
 "metadata": {
  "kernelspec": {
   "display_name": "base",
   "language": "python",
   "name": "python3"
  },
  "language_info": {
   "codemirror_mode": {
    "name": "ipython",
    "version": 3
   },
   "file_extension": ".py",
   "mimetype": "text/x-python",
   "name": "python",
   "nbconvert_exporter": "python",
   "pygments_lexer": "ipython3",
   "version": "3.9.13"
  },
  "orig_nbformat": 4
 },
 "nbformat": 4,
 "nbformat_minor": 2
}
