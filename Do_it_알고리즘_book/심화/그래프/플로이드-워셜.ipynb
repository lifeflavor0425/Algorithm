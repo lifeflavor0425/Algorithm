{
 "cells": [
  {
   "cell_type": "markdown",
   "metadata": {},
   "source": [
    "# 플로이드-워셜"
   ]
  },
  {
   "cell_type": "markdown",
   "metadata": {},
   "source": [
    "- 그래프에서 최단거리를 구하는 알고리즘\n",
    "- 음수 가중치 에지가 있어도 가능\n",
    "- 동적 계획법의 원리를 이용\n",
    "- O(v^3)\n",
    "- ! 그래프에서 시작점을 지정하지 않고, 모든 노드와 관련된 최소 경로 문제 -> 플로이드-워셜"
   ]
  },
  {
   "cell_type": "markdown",
   "metadata": {},
   "source": [
    "# 문제 061 - 가장 빠른 버스 노선 구하기"
   ]
  },
  {
   "cell_type": "markdown",
   "metadata": {},
   "source": [
    "- n개 도시, m개 버스\n",
    "- A->B로 가는 비용의 최솟값 구하는 문제"
   ]
  },
  {
   "cell_type": "code",
   "execution_count": 2,
   "metadata": {},
   "outputs": [
    {
     "name": "stdout",
     "output_type": "stream",
     "text": [
      "경유지 :  1\n",
      "row (출발) -->  1\n",
      "col (도착) -->  1\n",
      "col (도착) -->  2\n",
      "col (도착) -->  3\n",
      "col (도착) -->  4\n",
      "col (도착) -->  5\n",
      "row (출발) -->  2\n",
      "col (도착) -->  1\n",
      "col (도착) -->  2\n",
      "col (도착) -->  3\n",
      "col (도착) -->  4\n",
      "col (도착) -->  5\n",
      "row (출발) -->  3\n",
      "col (도착) -->  1\n",
      "col (도착) -->  2\n",
      "col (도착) -->  3\n",
      "col (도착) -->  4\n",
      "col (도착) -->  5\n",
      "row (출발) -->  4\n",
      "col (도착) -->  1\n",
      "col (도착) -->  2\n",
      "col (도착) -->  3\n",
      "col (도착) -->  4\n",
      "col (도착) -->  5\n",
      "row (출발) -->  5\n",
      "col (도착) -->  1\n",
      "col (도착) -->  2\n",
      "col (도착) -->  3\n",
      "col (도착) -->  4\n",
      "col (도착) -->  5\n",
      "경유지 :  2\n",
      "row (출발) -->  1\n",
      "col (도착) -->  1\n",
      "col (도착) -->  2\n",
      "col (도착) -->  3\n",
      "col (도착) -->  4\n",
      "col (도착) -->  5\n",
      "row (출발) -->  2\n",
      "col (도착) -->  1\n",
      "col (도착) -->  2\n",
      "col (도착) -->  3\n",
      "col (도착) -->  4\n",
      "col (도착) -->  5\n",
      "row (출발) -->  3\n",
      "col (도착) -->  1\n",
      "col (도착) -->  2\n",
      "col (도착) -->  3\n",
      "col (도착) -->  4\n",
      "col (도착) -->  5\n",
      "row (출발) -->  4\n",
      "col (도착) -->  1\n",
      "col (도착) -->  2\n",
      "col (도착) -->  3\n",
      "col (도착) -->  4\n",
      "col (도착) -->  5\n",
      "row (출발) -->  5\n",
      "col (도착) -->  1\n",
      "col (도착) -->  2\n",
      "col (도착) -->  3\n",
      "col (도착) -->  4\n",
      "col (도착) -->  5\n",
      "경유지 :  3\n",
      "row (출발) -->  1\n",
      "col (도착) -->  1\n",
      "col (도착) -->  2\n",
      "col (도착) -->  3\n",
      "col (도착) -->  4\n",
      "col (도착) -->  5\n",
      "row (출발) -->  2\n",
      "col (도착) -->  1\n",
      "col (도착) -->  2\n",
      "col (도착) -->  3\n",
      "col (도착) -->  4\n",
      "col (도착) -->  5\n",
      "row (출발) -->  3\n",
      "col (도착) -->  1\n",
      "col (도착) -->  2\n",
      "col (도착) -->  3\n",
      "col (도착) -->  4\n",
      "col (도착) -->  5\n",
      "row (출발) -->  4\n",
      "col (도착) -->  1\n",
      "col (도착) -->  2\n",
      "col (도착) -->  3\n",
      "col (도착) -->  4\n",
      "col (도착) -->  5\n",
      "row (출발) -->  5\n",
      "col (도착) -->  1\n",
      "col (도착) -->  2\n",
      "col (도착) -->  3\n",
      "col (도착) -->  4\n",
      "col (도착) -->  5\n",
      "경유지 :  4\n",
      "row (출발) -->  1\n",
      "col (도착) -->  1\n",
      "col (도착) -->  2\n",
      "col (도착) -->  3\n",
      "col (도착) -->  4\n",
      "col (도착) -->  5\n",
      "row (출발) -->  2\n",
      "col (도착) -->  1\n",
      "col (도착) -->  2\n",
      "col (도착) -->  3\n",
      "col (도착) -->  4\n",
      "col (도착) -->  5\n",
      "row (출발) -->  3\n",
      "col (도착) -->  1\n",
      "col (도착) -->  2\n",
      "col (도착) -->  3\n",
      "col (도착) -->  4\n",
      "col (도착) -->  5\n",
      "row (출발) -->  4\n",
      "col (도착) -->  1\n",
      "col (도착) -->  2\n",
      "col (도착) -->  3\n",
      "col (도착) -->  4\n",
      "col (도착) -->  5\n",
      "row (출발) -->  5\n",
      "col (도착) -->  1\n",
      "col (도착) -->  2\n",
      "col (도착) -->  3\n",
      "col (도착) -->  4\n",
      "col (도착) -->  5\n",
      "경유지 :  5\n",
      "row (출발) -->  1\n",
      "col (도착) -->  1\n",
      "col (도착) -->  2\n",
      "col (도착) -->  3\n",
      "col (도착) -->  4\n",
      "col (도착) -->  5\n",
      "row (출발) -->  2\n",
      "col (도착) -->  1\n",
      "col (도착) -->  2\n",
      "col (도착) -->  3\n",
      "col (도착) -->  4\n",
      "col (도착) -->  5\n",
      "row (출발) -->  3\n",
      "col (도착) -->  1\n",
      "col (도착) -->  2\n",
      "col (도착) -->  3\n",
      "col (도착) -->  4\n",
      "col (도착) -->  5\n",
      "row (출발) -->  4\n",
      "col (도착) -->  1\n",
      "col (도착) -->  2\n",
      "col (도착) -->  3\n",
      "col (도착) -->  4\n",
      "col (도착) -->  5\n",
      "row (출발) -->  5\n",
      "col (도착) -->  1\n",
      "col (도착) -->  2\n",
      "col (도착) -->  3\n",
      "col (도착) -->  4\n",
      "col (도착) -->  5\n",
      "0 2 3 1 4 \n",
      "12 0 15 2 5 \n",
      "8 5 0 1 1 \n",
      "10 7 13 0 3 \n",
      "7 4 10 6 0 \n"
     ]
    }
   ],
   "source": [
    "import sys\n",
    "\n",
    "n,m = 5, 14\n",
    "distance = [[sys.maxsize for _ in range(n+1)] for _ in range(n+1)]\n",
    "\n",
    "# 자기 자신 노드 0 초기화\n",
    "for i in range(n+1):\n",
    "    distance[i][i] = 0\n",
    "\n",
    "for i in range(m):\n",
    "    s, e, v = map(int, input().split())\n",
    "    if distance[s][e] > v:\n",
    "        distance[s][e] = v\n",
    "\n",
    "# 플로이드-워셜 수행\n",
    "for k in range(1, n+1): # 경유지\n",
    "    print('경유지 : ', k)\n",
    "    for i in range(1, n+1):\n",
    "        print(\"row (출발) --> \", i)\n",
    "        for j in range(1,n+1):\n",
    "            print(\"col (도착) --> \", j)\n",
    "            if distance[i][j] > distance[i][k] + distance[k][j]:\n",
    "                distance[i][j] = distance[i][k] + distance[k][j]\n",
    "                \n",
    "for i in range(1, n+1):\n",
    "    for j in range(1,n+1):\n",
    "        if distance[i][j] == sys.maxsize:\n",
    "            print(0, end=' ')\n",
    "        else :\n",
    "            print(distance[i][j], end=' ')\n",
    "    print()"
   ]
  },
  {
   "cell_type": "markdown",
   "metadata": {},
   "source": [
    "# 무제 062 - 경로찾기"
   ]
  },
  {
   "cell_type": "markdown",
   "metadata": {},
   "source": [
    "- 가중치가 없는 그래프, i->j 로 가는 경로가 있는지 구하는 문제\n",
    "- n(1~100), 인접 행렬"
   ]
  },
  {
   "cell_type": "code",
   "execution_count": 3,
   "metadata": {},
   "outputs": [
    {
     "name": "stdout",
     "output_type": "stream",
     "text": [
      "1 1 1 \n",
      "1 1 1 \n",
      "1 1 1 \n"
     ]
    }
   ],
   "source": [
    "n = 3\n",
    "distance = [[0 for _ in range(n)] for _ in range(n)]\n",
    "\n",
    "# 초기화 \n",
    "for i in range(n):\n",
    "    distance[i] = list(map(int, input().split()))\n",
    "\n",
    "# 변형된 플로이드-워셜 수행\n",
    "for k in range(n):\n",
    "    for i in range(n):\n",
    "        for j in range(n):\n",
    "            if distance[i][k] == 1 and distance[k][j] == 1:\n",
    "                distance[i][j] = 1\n",
    "\n",
    "for i in range(n):\n",
    "    for j in range(n):\n",
    "        print(distance[i][j], end=' ')\n",
    "    print()"
   ]
  },
  {
   "cell_type": "markdown",
   "metadata": {},
   "source": [
    "# 문제 063 - 케빈 베이컨의 6단계 법칙"
   ]
  },
  {
   "cell_type": "markdown",
   "metadata": {},
   "source": [
    "- 6단계 이내에 서로 아는 사람으로 연결\n",
    "- 임의의 두사람이 최소 몇 단계에서 이어질 수 있는지 계산하는 문제\n",
    "- 케빈 베이컨 수 : 모든 사람과 케빈 베이컨 게임을 했을 때 나오는 단계의 합"
   ]
  },
  {
   "cell_type": "code",
   "execution_count": 4,
   "metadata": {},
   "outputs": [
    {
     "name": "stdout",
     "output_type": "stream",
     "text": [
      "3\n"
     ]
    }
   ],
   "source": [
    "import sys\n",
    "n, m = 5,5\n",
    "distance= [[ sys.maxsize for _ in range(n+1)] for _ in range(n+1)]\n",
    "\n",
    "# 초기화\n",
    "for i in range(1,n+1):\n",
    "    distance[i][i] = 0\n",
    "\n",
    "for _ in range(m):\n",
    "    s,e = map(int, input().split())\n",
    "    distance[s][e] = 1\n",
    "    distance[e][s] = 1\n",
    "\n",
    "for k in range(1,n+1):\n",
    "    for i in range(1,n+1):\n",
    "        for j in range(1,n+1):\n",
    "            if distance[i][j] > distance[i][k] + distance[k][j]:\n",
    "                distance[i][j] = distance[i][k] + distance[k][j]\n",
    "\n",
    "Min = sys.maxsize\n",
    "Answer = -1\n",
    "for i in range(1,n+1):\n",
    "    temp =0\n",
    "    for j in range(1,n+1):\n",
    "        temp += distance[i][j]\n",
    "    if Min > temp: # 가장 작은 케빈 베이컨의 수를 지닌 i 찾기\n",
    "        Min = temp\n",
    "        Answer = i\n",
    "        \n",
    "print(Answer)\n"
   ]
  }
 ],
 "metadata": {
  "kernelspec": {
   "display_name": "base",
   "language": "python",
   "name": "python3"
  },
  "language_info": {
   "codemirror_mode": {
    "name": "ipython",
    "version": 3
   },
   "file_extension": ".py",
   "mimetype": "text/x-python",
   "name": "python",
   "nbconvert_exporter": "python",
   "pygments_lexer": "ipython3",
   "version": "3.9.13"
  },
  "orig_nbformat": 4
 },
 "nbformat": 4,
 "nbformat_minor": 2
}
