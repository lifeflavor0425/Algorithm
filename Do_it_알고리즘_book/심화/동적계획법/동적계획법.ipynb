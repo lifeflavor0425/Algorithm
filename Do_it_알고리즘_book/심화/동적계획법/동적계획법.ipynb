{
 "cells": [
  {
   "cell_type": "markdown",
   "metadata": {},
   "source": [
    "# 동적 계획법"
   ]
  },
  {
   "cell_type": "markdown",
   "metadata": {},
   "source": [
    "- 복잡한 문제를 여러 개의 간단한 문제로 분리하여 부분의 문제들을 해결함으로써 최종적으로 답을 구하는 방법\n",
    "- 큰 문제 -> 작은 문제\n",
    "- 작은 문제들은 한 번만 계산해 DP 테이블에 저장하여 추후 재사용할 때는 이 DP 테이블을 이용\n",
    "- 톱-다운 방식, 바텀-업 방식으로 구현"
   ]
  },
  {
   "cell_type": "markdown",
   "metadata": {},
   "source": [
    "## 피보나치 수열 예제"
   ]
  },
  {
   "cell_type": "markdown",
   "metadata": {},
   "source": [
    "### 톱-다운 방식"
   ]
  },
  {
   "cell_type": "code",
   "execution_count": 3,
   "metadata": {},
   "outputs": [
    {
     "name": "stdout",
     "output_type": "stream",
     "text": [
      "55\n"
     ]
    }
   ],
   "source": [
    "# 재귀 함수 \n",
    "n = 10\n",
    "D = [-1]*(n+1)\n",
    "D[0]= 0\n",
    "D[1]=1\n",
    "\n",
    "# 위에서 부터 아래로\n",
    "def fibo(n):\n",
    "    if D[n] != -1:\n",
    "        return D[n]\n",
    "    D[n] = fibo(n-2) + fibo(n-1)\n",
    "    return D[n]\n",
    "\n",
    "fibo(n)\n",
    "print(D[n])"
   ]
  },
  {
   "cell_type": "markdown",
   "metadata": {},
   "source": [
    "## 바텀-업 방식"
   ]
  },
  {
   "cell_type": "code",
   "execution_count": 4,
   "metadata": {},
   "outputs": [
    {
     "name": "stdout",
     "output_type": "stream",
     "text": [
      "55\n"
     ]
    }
   ],
   "source": [
    "# 반복문\n",
    "n = 10\n",
    "D = [-1]*(n+1)\n",
    "D[0]= 0\n",
    "D[1]=1\n",
    "\n",
    "# 아래서부터 위로\n",
    "for i in range(2,n+1):\n",
    "    D[i] = D[i-2] + D[i-1]\n",
    "\n",
    "print(D[n])"
   ]
  },
  {
   "cell_type": "markdown",
   "metadata": {},
   "source": [
    "# 문제 084 - 정수를 1로 만들기"
   ]
  },
  {
   "cell_type": "markdown",
   "metadata": {},
   "source": [
    "- 연산 조건 3가지\n",
    "    - x가 3으로 나누어 떨어지면 3으로 나눈다.\n",
    "    - x가 2로 나누어 떨어지면 2로 나눈다.\n",
    "    - 1을 뺀다.\n",
    "- 숫자 1을 만드는 최소 횟수 구하는 문제"
   ]
  },
  {
   "cell_type": "code",
   "execution_count": 7,
   "metadata": {},
   "outputs": [
    {
     "name": "stdout",
     "output_type": "stream",
     "text": [
      "3\n"
     ]
    }
   ],
   "source": [
    "# 바텀-업 방식\n",
    "n = 10\n",
    "D = [0]*(n+1)\n",
    "\n",
    "for i in range(2,n+1):\n",
    "    D[i] = D[i-1]+1\n",
    "    if i % 2 == 0:\n",
    "        D[i] = min(D[i],D[i//2]+1)\n",
    "    if i%3 ==0:\n",
    "        D[i] = min(D[i], D[i//3]+1)\n",
    "        \n",
    "print(D[n])"
   ]
  },
  {
   "cell_type": "markdown",
   "metadata": {},
   "source": [
    "# 문제 085 - 퇴사 준비하기"
   ]
  },
  {
   "cell_type": "markdown",
   "metadata": {},
   "source": [
    "- 오늘부터 n+1일째 되는 날 퇴사하기 위해 남은 일 동안 최대한 상담하려 함\n",
    "- 최대 수익을 얻는 문제"
   ]
  },
  {
   "cell_type": "code",
   "execution_count": 26,
   "metadata": {},
   "outputs": [
    {
     "name": "stdout",
     "output_type": "stream",
     "text": [
      "[0, 0, 0, 0, 0, 0, 0, 0, 0]\n",
      "[0, 0, 0, 0, 0, 0, 0, 0, 0]\n",
      "D[i+1], P[i]+D[i+T[i]] :  0 15\n",
      "[0, 0, 0, 0, 0, 15, 0, 0, 0]\n",
      "D[i+1], P[i]+D[i+T[i]] :  15 35\n",
      "[0, 0, 0, 0, 35, 15, 0, 0, 0]\n",
      "D[i+1], P[i]+D[i+T[i]] :  35 45\n",
      "[0, 0, 0, 45, 35, 15, 0, 0, 0]\n",
      "D[i+1], P[i]+D[i+T[i]] :  45 20\n",
      "[0, 0, 45, 45, 35, 15, 0, 0, 0]\n",
      "D[i+1], P[i]+D[i+T[i]] :  45 45\n",
      "[0, 45, 45, 45, 35, 15, 0, 0, 0]\n",
      "[0, 45, 45, 45, 35, 15, 0, 0, 0]\n"
     ]
    }
   ],
   "source": [
    "n = 7\n",
    "T = [0]*(n+1) # 시간\n",
    "P = [0]*(n+1) # 가격\n",
    "D = [0]*(n+2) # 최대 수익\n",
    "\n",
    "for i in range(1,n+1):\n",
    "    a,b = map(int, input().split())\n",
    "    T[i] = a\n",
    "    P[i] = b\n",
    "\n",
    "\n",
    "for i in range(n,0,-1):\n",
    "    if i+T[i] > n+1: # 기간을 넘어서 일하게 될 경우 0 \n",
    "        D[i] = D[i+1]\n",
    "    else :\n",
    "        print(\"D[i+1], P[i]+D[i+T[i]] : \", D[i+1], P[i]+D[i+T[i]])\n",
    "        D[i] = max(D[i+1], P[i]+D[i+T[i]])\n",
    "    print(D)\n",
    "\n",
    "print(D)"
   ]
  },
  {
   "cell_type": "markdown",
   "metadata": {},
   "source": [
    "# 문제 086 - 이친수 구하기"
   ]
  },
  {
   "cell_type": "markdown",
   "metadata": {},
   "source": [
    "- 0,1 로 이루어진 이진수 중에 특별한 성질을 갖는 것들을 이친수라고 한다.\n",
    "- 이친수는 0으로 시작하지 않는다.\n",
    "- 이친수에서는 1이 두번 연속으로 나타나지 않는다."
   ]
  },
  {
   "cell_type": "markdown",
   "metadata": {},
   "source": [
    "- 점화식\n",
    "    - D[i][0] : i길이에서 끝이 0으로 끝나는 이친수의 개수\n",
    "    - D[i][1] : i길이에서 끝이 1로 끝나는 이친수의 개수"
   ]
  },
  {
   "cell_type": "code",
   "execution_count": 2,
   "metadata": {},
   "outputs": [
    {
     "name": "stdout",
     "output_type": "stream",
     "text": [
      "5\n"
     ]
    }
   ],
   "source": [
    "n = 5\n",
    "D = [[0 for _ in range(2)] for i in range(n+1)]\n",
    "D[1][1] = 1 # 1자리 이친수는 1가지만 있음\n",
    "D[1][0] = 0\n",
    "\n",
    "for i in range(2,n+1):\n",
    "    D[i][0] = D[i-1][1] + D[i-1][0]\n",
    "    D[i][1] = D[i-1][0]\n",
    "    \n",
    "print(D[n][0]+ D[n][1])\n"
   ]
  },
  {
   "cell_type": "markdown",
   "metadata": {},
   "source": [
    "# 문제 087 - 2*n 타일 채우기"
   ]
  },
  {
   "cell_type": "markdown",
   "metadata": {},
   "source": [
    "- 2*n 크기의 직사각형을 1x2 또는 2x1 타일로 채우는 방법의 수 구하기"
   ]
  },
  {
   "cell_type": "code",
   "execution_count": 3,
   "metadata": {},
   "outputs": [
    {
     "name": "stdout",
     "output_type": "stream",
     "text": [
      "55\n"
     ]
    }
   ],
   "source": [
    "mod = 10007\n",
    "n = 9\n",
    "D = [0]*(1001)\n",
    "D[1]= 1\n",
    "D[2]= 2\n",
    "\n",
    "for i in range(3,n+1):\n",
    "    D[i] = (D[i-1] + D[i-2])% mod \n",
    "\n",
    "print(D[n])"
   ]
  },
  {
   "cell_type": "markdown",
   "metadata": {},
   "source": [
    "# 문제 088 - 계단 수 구하기"
   ]
  },
  {
   "cell_type": "markdown",
   "metadata": {},
   "source": [
    "- 계단수 : 어떤 수의 인접한 모든 자릿수의 차이가 1인 수\n"
   ]
  },
  {
   "cell_type": "code",
   "execution_count": 4,
   "metadata": {},
   "outputs": [
    {
     "name": "stdout",
     "output_type": "stream",
     "text": [
      "9\n"
     ]
    }
   ],
   "source": [
    "n = 1\n",
    "mod = 100000000\n",
    "D = [[0 for _ in range(11)] for _ in range(n+1)]\n",
    "\n",
    "for i in range(1,10):\n",
    "    D[1][i] = 1\n",
    "\n",
    "for i in range(2, n+1):\n",
    "    D[i][0] = D[i-1][1]\n",
    "    D[i][9] = D[i-1][8]\n",
    "    for j in range(1,9):\n",
    "        D[i][j] = (D[i-1][j-1] + D[i-1][j+1])% mod\n",
    "\n",
    "suum = 0\n",
    "\n",
    "for i in range(10):\n",
    "    suum = (suum + D[n][i]) % mod\n",
    "\n",
    "print(suum)"
   ]
  },
  {
   "cell_type": "markdown",
   "metadata": {},
   "source": [
    "# 문제 089 - 연속된 정수의 합 구하기"
   ]
  },
  {
   "cell_type": "markdown",
   "metadata": {},
   "source": [
    "- n개의 임의의 수열, 연속된 몇 개의 수를 선택해 가장 큰 합을 구하는 문제\n",
    "- 수를 1개 제거 가능"
   ]
  },
  {
   "cell_type": "code",
   "execution_count": 5,
   "metadata": {},
   "outputs": [
    {
     "name": "stdout",
     "output_type": "stream",
     "text": [
      "54\n"
     ]
    }
   ],
   "source": [
    "n = 10\n",
    "A = [10, -4, 3, 1, 5, 6, -35, 12, 21, -1]\n",
    "\n",
    "L = [0]*n\n",
    "L[0] = A[0]\n",
    "result = L[0]\n",
    "\n",
    "for i in range(1,n):\n",
    "    L[i] = max(A[i], L[i-1]+A[i])\n",
    "    result = max(result, L[i])\n",
    "\n",
    "R = [0]*n\n",
    "R[n-1] = A[n-1]\n",
    "\n",
    "for i in range(n-2, -1, -1):\n",
    "    R[i] = max(A[i], R[i+1]+A[i])\n",
    "\n",
    "for i in range(1, n-1):\n",
    "    temp = L[i-1] + R[i+1]\n",
    "    result = max(result, temp)\n",
    "\n",
    "print(result)"
   ]
  },
  {
   "cell_type": "markdown",
   "metadata": {},
   "source": [
    "# 문제 090 - 최장 공통 부분 수열 찾기"
   ]
  },
  {
   "cell_type": "markdown",
   "metadata": {},
   "source": [
    "- LCS 문제 : 두 수열이 주어졌을 때 모두의 부분 수열이 되는 수열 중 가장 긴 것을 찾는 문제\n"
   ]
  },
  {
   "cell_type": "code",
   "execution_count": 6,
   "metadata": {},
   "outputs": [
    {
     "name": "stdout",
     "output_type": "stream",
     "text": [
      "4\n",
      "ACAK\n"
     ]
    }
   ],
   "source": [
    "A = \"ACAUKP\"\n",
    "B = \"CAPCAK\"\n",
    "DP = [[0 for _ in range(len(B) + 1)] for _ in range(len(A)+1)]\n",
    "path = []\n",
    "\n",
    "for i in range(1, len(A)+1):\n",
    "    for j in range(1, len(B)+1):\n",
    "        if A[i-1] == B[j-1]:\n",
    "            # 같은 문자열일 때 왼쪽 대각선 값 +1\n",
    "            DP[i][j] = DP[i-1][j-1]+1\n",
    "        else :\n",
    "            # 다르면 왼쪽과 위의 값 중 큰 수 \n",
    "            DP[i][j] = max(DP[i-1][j], DP[i][j-1])\n",
    "            \n",
    "print(DP[len(A)][len(B)])\n",
    "\n",
    "# LCS 함수\n",
    "def getText(r,c):\n",
    "    if r==0 or c==0:\n",
    "        return\n",
    "    if A[r-1] == B[c-1]: #같으면 LCS에 기록하고 왼쪽 위로 이동\n",
    "        path.append(A[r-1])\n",
    "        getText(r-1, c-1)\n",
    "    else : # 다르면 왼쪽과 위의 값 중 큰 수로 이동\n",
    "        if DP[r-1][c] > DP[r][c-1]:\n",
    "            getText(r-1, c)\n",
    "        else :\n",
    "            getText(r, c-1)\n",
    "\n",
    "getText(len(A), len(B))\n",
    "\n",
    "for i in range(len(path)-1, -1, -1):\n",
    "    print(path.pop(), end='')\n",
    "print()\n",
    "        "
   ]
  },
  {
   "cell_type": "markdown",
   "metadata": {},
   "source": [
    "# 문제 091 - 가장 큰 정사각형 찾기"
   ]
  },
  {
   "cell_type": "markdown",
   "metadata": {},
   "source": [
    "- 0,1로 이루어진 배열에서 1로 된 가장 큰 정사각형의 크기를 구하는 문제"
   ]
  },
  {
   "cell_type": "code",
   "execution_count": 13,
   "metadata": {},
   "outputs": [
    {
     "name": "stdout",
     "output_type": "stream",
     "text": [
      "4\n"
     ]
    }
   ],
   "source": [
    "n,m = 4,4\n",
    "D = [[0 for _ in range(1001)] for _ in range(1001)]\n",
    "Max = 0\n",
    "numbers = [[0,1,0,0],[0,1,1,1],[1,1,1,0],[0,0,1,0]]\n",
    "for i in range(0,n):\n",
    "    number = numbers[i]\n",
    "    for j in range(0,m):\n",
    "        D[i][j] = number[j]\n",
    "        if D[i][j] == 1 and j>0 and i>0 :\n",
    "            D[i][j] = min(D[i-1][j-1], D[i-1][j], D[i][j-1])+D[i][j]\n",
    "        if Max < D[i][j]:\n",
    "            Max = D[i][j]\n",
    "\n",
    "print(Max*Max)"
   ]
  },
  {
   "cell_type": "markdown",
   "metadata": {},
   "source": [
    "# 문제 094 - 행렬 곱 연산 횟수의 최솟값 구하기"
   ]
  },
  {
   "cell_type": "markdown",
   "metadata": {},
   "source": [
    "- 크기 n*m 행렬 A와 m*k인 B를 곱할 때 필요한 곱셈 횟수는 n*m*k번\n",
    "- 곱셈 순서에 따라 결과가 다르게 나옴\n",
    "- 횟수의 최솟값을 구하는 문제"
   ]
  },
  {
   "cell_type": "code",
   "execution_count": 14,
   "metadata": {},
   "outputs": [
    {
     "name": "stdout",
     "output_type": "stream",
     "text": [
      "71\n"
     ]
    }
   ],
   "source": [
    "n = 3\n",
    "m = []\n",
    "D = [[-1 for j in range(n+1)] for _ in range(n+1)]\n",
    "\n",
    "m.append((0,0))\n",
    "\n",
    "for i in range(n):\n",
    "    r,c = map(int,input().split())\n",
    "    m.append((r,c))\n",
    "\n",
    "import sys\n",
    "def execute(s,e) : # 답다운 방식\n",
    "    result = sys.maxsize\n",
    "    if D[s][e] != -1: # 이미 계산한 부분은 다시 안함\n",
    "        return D[s][e]\n",
    "    if s==e : # 행렬 1개의 곱셈 연산\n",
    "        return 0\n",
    "    if s+1 == e: # 행렬 2개의 곱셈 연산\n",
    "        return m[s][0] + m[s][1]*m[e][1]\n",
    "    for i in range(s,e): # 행렬 3개 이상일 경우 곱셈 연산 -> 재귀 형태로 계산\n",
    "        result = min(result, m[s][0]*m[i][1]*m[e][1] + execute(s,i) + execute(i+1,e))\n",
    "    D[s][e] = result\n",
    "    return D[s][e]\n",
    "print(execute(1,n))"
   ]
  }
 ],
 "metadata": {
  "kernelspec": {
   "display_name": "base",
   "language": "python",
   "name": "python3"
  },
  "language_info": {
   "codemirror_mode": {
    "name": "ipython",
    "version": 3
   },
   "file_extension": ".py",
   "mimetype": "text/x-python",
   "name": "python",
   "nbconvert_exporter": "python",
   "pygments_lexer": "ipython3",
   "version": "3.9.13"
  },
  "orig_nbformat": 4
 },
 "nbformat": 4,
 "nbformat_minor": 2
}
