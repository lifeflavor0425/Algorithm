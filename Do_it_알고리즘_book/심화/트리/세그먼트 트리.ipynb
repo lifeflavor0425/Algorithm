{
 "cells": [
  {
   "cell_type": "markdown",
   "metadata": {},
   "source": [
    "# 세그먼트 트리"
   ]
  },
  {
   "cell_type": "markdown",
   "metadata": {},
   "source": [
    "- 데이터의 구간 합과 데이터 업데이트를 빠르게 수행하기 위한 알고리즘\n",
    "- 종류 : 구간 합, 최대/최소 구하기\n",
    "- 구현 단계 : 트리 초기화 -> 질의값 구하기(구간합 or 최대/최소) -> 데이터 업데이트"
   ]
  },
  {
   "cell_type": "markdown",
   "metadata": {},
   "source": [
    "# 문제 071 - 구간 합 구하기 3"
   ]
  },
  {
   "cell_type": "markdown",
   "metadata": {},
   "source": [
    "- n 개의 수, 중간에 부분의 합을 구하는 문제\n",
    "- 단순 구간 합 알고리즘은 데이터를 업데이트하는데 시간이 많이 걸림 => 세그먼트 트리 이용"
   ]
  },
  {
   "cell_type": "code",
   "execution_count": 11,
   "metadata": {},
   "outputs": [
    {
     "name": "stdout",
     "output_type": "stream",
     "text": [
      "트리 크기 :  16\n",
      "왼쪽 시작 노드 :  7\n",
      "트리 :  [0, 0, 0, 0, 0, 0, 0, 0, 1, 2, 3, 4, 5, 0, 0, 0, 0]\n",
      "[0, 15, 10, 5, 3, 7, 5, 0, 1, 2, 3, 4, 5, 0, 0, 0, 0]\n",
      "17\n",
      "12\n"
     ]
    }
   ],
   "source": [
    "n, m, k =5, 2, 2\n",
    "treeHeight = 0\n",
    "length = n\n",
    "\n",
    "while length != 0:\n",
    "    length //= 2\n",
    "    treeHeight += 1\n",
    "\n",
    "treeSize = pow(2, treeHeight + 1)\n",
    "leftNodeStartIndex = treeSize // 2 -1\n",
    "tree = [0] * (treeSize + 1)\n",
    "print(\"트리 크기 : \", treeSize)\n",
    "print(\"왼쪽 시작 노드 : \", leftNodeStartIndex)\n",
    "# 데이터를 리프 노드에 저장\n",
    "# for i in range(leftNodeStartIndex + 1, leftNodeStartIndex + n+ 1):\n",
    "#     tree[i] = int(input())\n",
    "tree = [0, 0, 0, 0, 0, 0, 0, 0, 1, 2, 3, 4, 5, 0, 0, 0, 0]\n",
    "print(\"트리 : \", tree)\n",
    "\n",
    "# 인덱스 트리 생성 함수\n",
    "def setTree(i):\n",
    "    while i != 1:\n",
    "        tree[i // 2] += tree[i]\n",
    "        i -= 1\n",
    "setTree(treeSize - 1)\n",
    "print(tree)\n",
    "\n",
    "# 값 변경 함수\n",
    "def changeVal(index, value):\n",
    "    diff = value - tree[index]\n",
    "    while index > 0:\n",
    "        tree[index] = tree[index] + diff\n",
    "        index = index // 2\n",
    "\n",
    "# 구간 합 계산 함수\n",
    "def getSum(s,e):\n",
    "    partSum = 0\n",
    "    while s<=e:\n",
    "        if s%2 == 1:\n",
    "            partSum += tree[s]\n",
    "            s+=1\n",
    "        if e%2 == 0:\n",
    "            partSum += tree[e]\n",
    "            e-=1\n",
    "        s = s//2\n",
    "        e = e//2\n",
    "    return partSum\n",
    "\n",
    "for _ in range(m+k):\n",
    "    question, s, e = map(int, input().split())\n",
    "    if question == 1:\n",
    "        changeVal(leftNodeStartIndex + s, e)\n",
    "    elif question == 2:\n",
    "        s = s + leftNodeStartIndex\n",
    "        e = e + leftNodeStartIndex\n",
    "        print(getSum(s,e))"
   ]
  },
  {
   "cell_type": "markdown",
   "metadata": {},
   "source": [
    "# 문제 072 - 최솟값 찾기 2"
   ]
  },
  {
   "cell_type": "markdown",
   "metadata": {},
   "source": [
    "- n개의 정수 중, A~B번째 정수 중 가장 작은 정수 찾는 문제"
   ]
  },
  {
   "cell_type": "code",
   "execution_count": 12,
   "metadata": {},
   "outputs": [
    {
     "name": "stdout",
     "output_type": "stream",
     "text": [
      "트리 크기 :  32\n",
      "왼쪽 시작 노드 :  17\n",
      "트리 크기 :  32\n",
      "5\n",
      "38\n",
      "20\n",
      "5\n"
     ]
    }
   ],
   "source": [
    "import sys\n",
    "n, m = 10, 4 # 노드개수, 질의 개수\n",
    "treeHeight = 0\n",
    "length = n\n",
    "\n",
    "while length != 0:\n",
    "    length //= 2\n",
    "    treeHeight += 1\n",
    "\n",
    "treeSize = pow(2, treeHeight + 1)\n",
    "leftNodeStartIndex = treeSize//2 + 1 # 17\n",
    "tree = [sys.maxsize] * (treeSize + 1)\n",
    "print(\"트리 크기 : \", treeSize)\n",
    "print(\"왼쪽 시작 노드 : \", leftNodeStartIndex)\n",
    "\n",
    "# 데이터를 리프 노드에 저장\n",
    "for i in range(leftNodeStartIndex + 1, leftNodeStartIndex + n + 1):\n",
    "    tree[i] = int(input())\n",
    "\n",
    "# 인덱스 트리 생성 함수\n",
    "def setTree(i):\n",
    "    while i != 1:\n",
    "        if tree[i//2] > tree[i]:\n",
    "            tree[i//2] = tree[i]\n",
    "        i -= 1\n",
    "\n",
    "setTree(treeSize - 1)\n",
    "print(\"트리 크기 : \", tree)\n",
    "\n",
    "# 최솟값 계산 함수\n",
    "def getMin(s,e):\n",
    "    Min = sys.maxsize\n",
    "    while s <= e:\n",
    "        if s%2 == 1:\n",
    "            Min = min(Min, tree[s])\n",
    "            s+=1\n",
    "        if e%2 == 0:\n",
    "            Min = min(Min, tree[e])\n",
    "            e -=1\n",
    "        s = s//2\n",
    "        e = e//2\n",
    "    return Min\n",
    "\n",
    "for _ in range(m):\n",
    "    s,e = map(int, input().split())\n",
    "    s = s + leftNodeStartIndex\n",
    "    e = e + leftNodeStartIndex\n",
    "    print(getMin(s,e))"
   ]
  },
  {
   "cell_type": "markdown",
   "metadata": {},
   "source": [
    "# 문제 073 - 구간 곱 구하기"
   ]
  },
  {
   "cell_type": "markdown",
   "metadata": {},
   "source": [
    "- n개의 수, 중간에 수의 변경이 빈번히 일어남, 그와중 구간 곱 구하기\n"
   ]
  },
  {
   "cell_type": "code",
   "execution_count": 16,
   "metadata": {},
   "outputs": [
    {
     "name": "stdout",
     "output_type": "stream",
     "text": [
      "트리 크기 :  16\n",
      "왼쪽 시작 노드 :  9\n",
      "tree :  [1, 1, 1, 1, 1, 1, 1, 1, 1, 1, 1, 2, 3, 4, 5, 1, 1]\n",
      "tree :  [1, 120, 2, 60, 1, 2, 12, 5, 1, 1, 1, 2, 3, 4, 5, 1, 1]\n",
      "tree 변경:  [1, 240, 2, 120, 1, 2, 24, 5, 1, 1, 1, 2, 6, 4, 5, 1, 1]\n",
      "240\n",
      "tree 변경:  [1, 96, 2, 48, 1, 2, 24, 2, 1, 1, 1, 2, 6, 4, 2, 1, 1]\n",
      "48\n"
     ]
    }
   ],
   "source": [
    "n, m, k = 5, 2, 2\n",
    "treeHeight= 0\n",
    "length = n\n",
    "MOD = 10000000007\n",
    "\n",
    "while length != 0:\n",
    "    length //= 2\n",
    "    treeHeight += 1\n",
    "\n",
    "treeSize = pow(2,treeHeight+1)\n",
    "leftNodeStartIndex = treeSize//2 +1 #9\n",
    "tree = [1]* (treeSize + 1)\n",
    "\n",
    "for i in range(leftNodeStartIndex + 1, leftNodeStartIndex + n + 1):\n",
    "    tree[i] = int(input())\n",
    "print(\"트리 크기 : \", treeSize)\n",
    "print(\"왼쪽 시작 노드 : \", leftNodeStartIndex)\n",
    "print(\"tree : \", tree)\n",
    "\n",
    "# 트리 초기화\n",
    "def setTree(i):\n",
    "    while i != 1:\n",
    "        tree[i//2] = tree[i//2] * tree[i] % MOD\n",
    "        i -= 1\n",
    "\n",
    "setTree(treeSize -1)\n",
    "print(\"tree : \", tree)\n",
    "\n",
    "# 값 변경 함수\n",
    "def changeVal(index, value):\n",
    "    tree[index] = value\n",
    "    while index > 1:\n",
    "        index = index // 2\n",
    "        tree[index] = tree[index * 2]%MOD * tree[index*2 + 1] % MOD\n",
    "\n",
    "# 구간 곱 계산 함수\n",
    "def getMul(s,e):\n",
    "    partMul = 1\n",
    "    while s<=e:\n",
    "        if s%2 == 1:\n",
    "            partMul = partMul * tree[s] % MOD\n",
    "            s += 1\n",
    "        if e%2 == 0:\n",
    "            partMul = partMul * tree[e] % MOD\n",
    "            e -= 1\n",
    "        s = s//2\n",
    "        e = e//2\n",
    "    return partMul\n",
    "\n",
    "for _ in range(m+k):\n",
    "    question, s, e = map(int,input().split())\n",
    "    if question == 1:\n",
    "        changeVal(leftNodeStartIndex + s, e)\n",
    "        print(\"tree 변경: \", tree)\n",
    "        \n",
    "    elif question == 2:\n",
    "        s = s+ leftNodeStartIndex\n",
    "        e = e+ leftNodeStartIndex\n",
    "        print(getMul(s,e))\n"
   ]
  }
 ],
 "metadata": {
  "kernelspec": {
   "display_name": "base",
   "language": "python",
   "name": "python3"
  },
  "language_info": {
   "codemirror_mode": {
    "name": "ipython",
    "version": 3
   },
   "file_extension": ".py",
   "mimetype": "text/x-python",
   "name": "python",
   "nbconvert_exporter": "python",
   "pygments_lexer": "ipython3",
   "version": "3.9.13"
  },
  "orig_nbformat": 4
 },
 "nbformat": 4,
 "nbformat_minor": 2
}
