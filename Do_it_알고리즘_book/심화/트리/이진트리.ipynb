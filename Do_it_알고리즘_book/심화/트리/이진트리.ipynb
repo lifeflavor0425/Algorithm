{
 "cells": [
  {
   "cell_type": "markdown",
   "metadata": {},
   "source": [
    "# 이진 트리"
   ]
  },
  {
   "cell_type": "markdown",
   "metadata": {},
   "source": [
    "- 각 노드의 자식 노드(차수)의 개수가 2이하로 구성돼 있는 트리"
   ]
  },
  {
   "cell_type": "markdown",
   "metadata": {},
   "source": [
    "- 루트 노드 => index = 1\n",
    "- 부모 노드 => index = index/2\n",
    "- 왼쪽 자식 노드 => index = index * 2\n",
    "- 오른쪽 자식 노드 => index = index * 2 + 1"
   ]
  },
  {
   "cell_type": "markdown",
   "metadata": {},
   "source": [
    "# 문제 070 - 트리 순회하기"
   ]
  },
  {
   "cell_type": "markdown",
   "metadata": {},
   "source": [
    "- 전위 순회, 중위 순회, 후위 순회 한 결과를 출력하는 문제\n",
    "- dict 사용"
   ]
  },
  {
   "cell_type": "code",
   "execution_count": 5,
   "metadata": {},
   "outputs": [
    {
     "name": "stdout",
     "output_type": "stream",
     "text": [
      "{'A': ['B', 'C'], 'B': ['D', '.'], 'C': ['E', 'F'], 'E': ['.', '.'], 'F': ['.', 'G'], 'D': ['.', '.'], 'G': ['.', '.']}\n",
      "A B D C E F G \n",
      "D B A E C F G \n",
      "D B E G F C A "
     ]
    }
   ],
   "source": [
    "n = 7\n",
    "tree = {'A': ['B', 'C'], 'B': ['D', '.'], 'C': ['E', 'F'], 'E': ['.', '.'], 'F': ['.', 'G'], 'D': ['.', '.'], 'G': ['.', '.']}\n",
    "\n",
    "# for _ in range(n):\n",
    "#     root, left, right = input().split()\n",
    "#     tree[root] = [left, right]\n",
    "print(tree)\n",
    "def preOrder(now):\n",
    "    if now =='.':\n",
    "        return\n",
    "    print(now, end=' ')#현재 노드\n",
    "    preOrder(tree[now][0]) # 왼쪽\n",
    "    preOrder(tree[now][1]) # 오른쪽\n",
    "\n",
    "def inOrder(now):\n",
    "    if now == '.':\n",
    "        return\n",
    "    inOrder(tree[now][0]) # 왼쪽\n",
    "    print(now, end=' ') # 현재 노드\n",
    "    inOrder(tree[now][1]) # 오른쪽\n",
    "\n",
    "def postOrder(now):\n",
    "    if now == '.':\n",
    "        return\n",
    "    postOrder(tree[now][0]) # 왼쪽\n",
    "    postOrder(tree[now][1]) # 오른쪽\n",
    "    print(now, end=' ')\n",
    "    \n",
    "preOrder('A')\n",
    "print()\n",
    "inOrder('A')\n",
    "print()\n",
    "postOrder('A')"
   ]
  }
 ],
 "metadata": {
  "kernelspec": {
   "display_name": "base",
   "language": "python",
   "name": "python3"
  },
  "language_info": {
   "codemirror_mode": {
    "name": "ipython",
    "version": 3
   },
   "file_extension": ".py",
   "mimetype": "text/x-python",
   "name": "python",
   "nbconvert_exporter": "python",
   "pygments_lexer": "ipython3",
   "version": "3.9.13"
  },
  "orig_nbformat": 4
 },
 "nbformat": 4,
 "nbformat_minor": 2
}
