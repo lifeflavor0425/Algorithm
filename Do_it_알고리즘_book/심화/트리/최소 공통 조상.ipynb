{
 "cells": [
  {
   "cell_type": "markdown",
   "metadata": {},
   "source": [
    "# 최소 공통 조상"
   ]
  },
  {
   "cell_type": "markdown",
   "metadata": {},
   "source": [
    "- 최소 공통 노드 : 임의의 두 노드를 선택했을 때 부모 노드가 처음으로 공통으로 만나게 되는 부모 노드"
   ]
  },
  {
   "cell_type": "markdown",
   "metadata": {},
   "source": [
    "# 문제 074 - 최소 공통 조상 구하기 1"
   ]
  },
  {
   "cell_type": "code",
   "execution_count": 4,
   "metadata": {},
   "outputs": [
    {
     "name": "stdout",
     "output_type": "stream",
     "text": [
      "tree :  [[], [2, 3], [1, 4, 6, 5], [1, 7, 8], [2, 9, 10], [2, 11, 12], [2], [3, 13, 14], [3], [4], [4], [5, 15], [5], [7], [7], [11]]\n",
      "parent :  [0, 0, 1, 1, 2, 2, 2, 3, 3, 4, 4, 5, 5, 7, 7, 11]\n",
      "depth :  [0, 0, 1, 1, 2, 2, 2, 2, 2, 3, 3, 3, 3, 3, 3, 4]\n",
      "2\n",
      "\n",
      "\n",
      "4\n",
      "\n",
      "\n",
      "2\n",
      "\n",
      "\n",
      "1\n",
      "\n",
      "\n",
      "3\n",
      "\n",
      "\n",
      "1\n",
      "\n",
      "\n"
     ]
    }
   ],
   "source": [
    "n = 15 # 노드 개수\n",
    "m = 6 # 질의 개수\n",
    "from collections import deque\n",
    "tree = [[] for _ in range(n+1)]\n",
    "tree = [[], [2, 3], [1, 4, 6, 5], [1, 7, 8], [2, 9, 10], [2, 11, 12], [2], [3, 13, 14], [3], [4], [4], [5, 15], [5], [7], [7], [11]]\n",
    "\n",
    "# for _ in range(0, n-1):\n",
    "#     s, e = map(int, input().split())\n",
    "#     tree[s].append(e)\n",
    "#     tree[e].append(s)\n",
    "\n",
    "depth = [0]*(n+1)\n",
    "parent = [0]* (n+1)\n",
    "visited = [False] * (n+1)\n",
    "print(\"tree : \", tree)\n",
    "def BFS(node):\n",
    "    queue = deque()\n",
    "    queue.append(node)\n",
    "    visited[node] = True\n",
    "    level = 1\n",
    "    now_size = 1\n",
    "    count = 0\n",
    "    while queue :\n",
    "        now_node = queue.popleft()\n",
    "        for next in tree[now_node]:\n",
    "            if not visited[next]:\n",
    "                visited[next] = True\n",
    "                queue.append(next)\n",
    "                parent[next] = now_node # 부모 노드 저장\n",
    "                depth[next] = level # 부모 depth 저장\n",
    "        count += 1\n",
    "        if count == now_size:   # 현재 깊이의 모든 노드를 방문\n",
    "            count = 0\n",
    "            now_size = len(queue)   # 자손 노드의 개수\n",
    "            level += 1  # 깊이 1 증가\n",
    "\n",
    "BFS(1)\n",
    "print(\"parent : \", parent)\n",
    "print(\"depth : \", depth)\n",
    "\n",
    "def executeLCA(a,b):\n",
    "    \n",
    "    if depth[a]<depth[b]: # a를 더 깊게 만듬\n",
    "        temp = a\n",
    "        a = b\n",
    "        b = temp\n",
    "    \n",
    "    while depth[a] != depth[b]: # a의 depth 맞추기\n",
    "        a = parent[a]\n",
    "    \n",
    "    while a!=b :# 공통 조상 찾기\n",
    "        a = parent[a]\n",
    "        b = parent[b]\n",
    "    \n",
    "    return a\n",
    "\n",
    "for _ in range(m):\n",
    "    a, b = map(int, input().split())\n",
    "    print(str(executeLCA(a,b)))\n",
    "    "
   ]
  },
  {
   "cell_type": "markdown",
   "metadata": {},
   "source": [
    "# 문제 075 - 최소 공통 조상 구하기 2"
   ]
  },
  {
   "cell_type": "markdown",
   "metadata": {},
   "source": [
    "- 깊이가 깊을 경우 => 2^을 이용해서 빠르게 탐색"
   ]
  },
  {
   "cell_type": "code",
   "execution_count": 15,
   "metadata": {},
   "outputs": [
    {
     "name": "stdout",
     "output_type": "stream",
     "text": [
      "[[], [2, 3], [1, 4, 6, 5], [1, 7, 8], [2, 9, 10], [2, 11, 12], [2], [3, 13, 14], [3], [4], [4], [5, 15], [5], [7], [7], [11]]\n",
      "2\n",
      "4\n",
      "2\n",
      "1\n",
      "3\n",
      "1\n"
     ]
    }
   ],
   "source": [
    "n = 15\n",
    "m = 6\n",
    "# tree = [[0] for _ in range(n+1)]\n",
    "tree = [[], [2, 3], [1, 4, 6, 5], [1, 7, 8], [2, 9, 10], [2, 11, 12], [2], [3, 13, 14], [3], [4], [4], [5, 15], [5], [7], [7], [11]]\n",
    "# for _ in range(0,n-1): # 인접 리스트에 트리 데이터 저장\n",
    "#     s,e = map(int, input().split())\n",
    "#     tree[s].append(e)\n",
    "#     tree[e].append(s)\n",
    "print(tree)\n",
    "depth = [0]*(n+1)\n",
    "visited = [False]*(n+1)\n",
    "temp = 1\n",
    "kmax = 0\n",
    "\n",
    "while temp <= n: # 최대 가능 depth 구하기\n",
    "    temp <<= 1\n",
    "    kmax += 1\n",
    "\n",
    "parent = [[0 for j in range(n+1)] for i in range(kmax + 1)]\n",
    "\n",
    "def BFS(node):\n",
    "    queue = deque()\n",
    "    queue.append(node)\n",
    "    visited[node] = True\n",
    "    level = 1\n",
    "    count = 0\n",
    "    now_size = 1\n",
    "    while queue :\n",
    "        now_node = queue.popleft()\n",
    "        for next in tree[now_node]:\n",
    "            if not visited[next]:\n",
    "                queue.append(next)\n",
    "                visited[next] = True\n",
    "                parent[0][next] = now_node # 부모 노드 저장\n",
    "                depth[next] = level #노드 depth 저장\n",
    "        count += 1\n",
    "        if count == now_size:\n",
    "            count = 0\n",
    "            now_size = len(queue)\n",
    "            level += 1\n",
    "BFS(1)\n",
    "for k in range(1, kmax+1):\n",
    "    for n in range(1, n+1):\n",
    "        parent[k][n] = parent[k-1][parent[k-1][n]]\n",
    "\n",
    "def executeLCA(a,b):\n",
    "    if depth[a]>depth[b]: # 더깊은 depth가 b가 되도록\n",
    "        temp = a\n",
    "        a = b\n",
    "        b = temp\n",
    "    \n",
    "    for k in range(kmax, -1, -1): # depth 빠르게 맞추기\n",
    "        if pow(2,k) <=  depth[b] - depth[a]: # 깊이 차이가 2^ 이상일 경우\n",
    "            if depth[a] <= depth[parent[k][b]]: # b의 2^ 부모 깊이가 아직도 더 깊을 경우\n",
    "                b = parent[k][b]\n",
    "    \n",
    "    for k in range(kmax, -1, -1): # 조상 빠르게 찾기\n",
    "        if a == b : break\n",
    "        if parent[k][a] != parent[k][b]:\n",
    "            a = parent[k][a]\n",
    "            b = parent[k][b]\n",
    "    \n",
    "    LCA = a\n",
    "    if a!= b:\n",
    "        LCA = parent[0][LCA]\n",
    "    \n",
    "    return LCA\n",
    "\n",
    "for _ in range(m):\n",
    "    a, b = map(int, input().split())\n",
    "    print(str(executeLCA(a,b)))"
   ]
  }
 ],
 "metadata": {
  "kernelspec": {
   "display_name": "base",
   "language": "python",
   "name": "python3"
  },
  "language_info": {
   "codemirror_mode": {
    "name": "ipython",
    "version": 3
   },
   "file_extension": ".py",
   "mimetype": "text/x-python",
   "name": "python",
   "nbconvert_exporter": "python",
   "pygments_lexer": "ipython3",
   "version": "3.9.13"
  },
  "orig_nbformat": 4
 },
 "nbformat": 4,
 "nbformat_minor": 2
}
