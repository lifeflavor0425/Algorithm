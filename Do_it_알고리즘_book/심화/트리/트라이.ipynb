{
 "cells": [
  {
   "cell_type": "markdown",
   "metadata": {},
   "source": [
    "# 트라이"
   ]
  },
  {
   "cell_type": "markdown",
   "metadata": {},
   "source": [
    "- 문자열 검색을 빠르게 실행할 수 있도록 설계한 트리 형태의 자료구조\n",
    "- 문자열을 사전(dict) 형태로 생성 후, 트리의 구조를 이용해 검색 수행"
   ]
  },
  {
   "cell_type": "markdown",
   "metadata": {},
   "source": [
    "# 문제 069 - 문자열 찾기"
   ]
  },
  {
   "cell_type": "markdown",
   "metadata": {},
   "source": [
    "- n개의 문자열 집합 S, M개의 문자열 중 집합 S에 포함돼 있는 것의 개수를 구하는 문제"
   ]
  },
  {
   "cell_type": "code",
   "execution_count": 21,
   "metadata": {},
   "outputs": [
    {
     "name": "stdout",
     "output_type": "stream",
     "text": [
      "문제 :  baekjoon\n",
      "문제 :  codeplus\n",
      "있음\n",
      "문제 :  codeminus\n",
      "문제 :  startlink\n",
      "있음\n",
      "문제 :  starlink\n",
      "문제 :  sundaycoding\n",
      "있음\n",
      "문제 :  codingsh\n",
      "있음\n",
      "문제 :  codinghs\n",
      "문제 :  sondaycoding\n",
      "문제 :  startrink\n",
      "문제 :  icerink\n",
      "4\n"
     ]
    }
   ],
   "source": [
    "n ,m = 5, 11\n",
    "\n",
    "\n",
    "\n",
    "class Node(object):\n",
    "    def __init__(self,isEnd):\n",
    "        self.isEnd = isEnd\n",
    "        self.childNode = {}\n",
    "\n",
    "class Trie(object):\n",
    "    def __init__(self):\n",
    "        self.parent = Node(None)\n",
    "    \n",
    "    # 문자 삽입\n",
    "    def insert(self, string):\n",
    "        nowNode = self.parent\n",
    "        temp_length = 0\n",
    "        for char in string:\n",
    "            # 자식 node들 미생성된 문자열이면 새로 생성\n",
    "            if char not in nowNode.childNode:\n",
    "                nowNode.childNode[char] = Node(char)\n",
    "            # 자식 노드로 이동\n",
    "            nowNode = nowNode.childNode[char]\n",
    "            temp_length += 1\n",
    "            if temp_length == len(string):\n",
    "                nowNode.isEnd = True\n",
    "                \n",
    "    # 문자열이 존재하는지 탐색\n",
    "    def search(self, string):\n",
    "        nowNode = self.parent\n",
    "        temp_length = 0\n",
    "        for char in string:\n",
    "            if char in nowNode.childNode:\n",
    "                nowNode = nowNode.childNode[char]\n",
    "                temp_length += 1\n",
    "                if temp_length == len(string) and nowNode.isEnd == True:\n",
    "                    return True\n",
    "                \n",
    "        return False\n",
    "\n",
    "myTrie = Trie()\n",
    "\n",
    "words = '''baekjoononlinejudge\n",
    "startlink\n",
    "codeplus\n",
    "sundaycoding\n",
    "codingsh'''\n",
    "for word in words.split('\\n'):\n",
    "    myTrie.insert(word) # 단어 삽입\n",
    "\n",
    "result = 0\n",
    "problems = '''baekjoon\n",
    "codeplus\n",
    "codeminus\n",
    "startlink\n",
    "starlink\n",
    "sundaycoding\n",
    "codingsh\n",
    "codinghs\n",
    "sondaycoding\n",
    "startrink\n",
    "icerink'''\n",
    "for problem in problems.split('\\n'):\n",
    "    print('문제 : ', problem)\n",
    "    if myTrie.search(problem):\n",
    "        print('있음')\n",
    "        result += 1\n",
    "\n",
    "print(result)"
   ]
  }
 ],
 "metadata": {
  "kernelspec": {
   "display_name": "base",
   "language": "python",
   "name": "python3"
  },
  "language_info": {
   "codemirror_mode": {
    "name": "ipython",
    "version": 3
   },
   "file_extension": ".py",
   "mimetype": "text/x-python",
   "name": "python",
   "nbconvert_exporter": "python",
   "pygments_lexer": "ipython3",
   "version": "3.9.13"
  },
  "orig_nbformat": 4
 },
 "nbformat": 4,
 "nbformat_minor": 2
}
