{
 "cells": [
  {
   "cell_type": "markdown",
   "metadata": {},
   "source": [
    "# 트리"
   ]
  },
  {
   "cell_type": "markdown",
   "metadata": {},
   "source": [
    "- 에지로 연겨된 그래프의 특수한 형태\n",
    "- 1개의 루트 노드가 존재\n",
    "- 루트 노드를 제외한 노드는 단 1개의 부모 노드를 갖는다.\n",
    "- 순환 구조 x"
   ]
  },
  {
   "cell_type": "markdown",
   "metadata": {},
   "source": [
    "- 그래프 구현방식을 사용 가능\n",
    "- 그래프 탐색 알고리즘 사용 가능"
   ]
  },
  {
   "cell_type": "markdown",
   "metadata": {},
   "source": [
    "# 문제 067 - 트리의 부모 찾기"
   ]
  },
  {
   "cell_type": "markdown",
   "metadata": {},
   "source": [
    "- 트리의 투르를 1이라고 정했을 때 각 노드의 부모를 구하는 프로그램을 구하는 문제"
   ]
  },
  {
   "cell_type": "code",
   "execution_count": 2,
   "metadata": {},
   "outputs": [
    {
     "name": "stdout",
     "output_type": "stream",
     "text": [
      "부모 노드 :  1\n",
      "부모 노드 :  6\n",
      "부모 노드 :  3\n",
      "부모 노드 :  1\n",
      "부모 노드 :  4\n",
      "부모 노드 :  4\n",
      "4\n",
      "6\n",
      "1\n",
      "3\n",
      "1\n",
      "4\n"
     ]
    }
   ],
   "source": [
    "n = 7\n",
    "visited = [False] *(n+1)\n",
    "tree = [[] for _ in range(n+1)]\n",
    "answer = [0]*(n+1)\n",
    "\n",
    "for _ in range(1,n):\n",
    "    n1, n2 = map(int, input().split())\n",
    "    tree[n1].append(n2)\n",
    "    tree[n2].append(n1)\n",
    "\n",
    "# DFS 탐색\n",
    "def DFS(number):\n",
    "    visited[number] = True\n",
    "    \n",
    "    for i in tree[number]:\n",
    "        if not visited[i] :\n",
    "            print(\"부모 노드 : \",number)\n",
    "            answer[i] = number # DFS를 수행하면서 부모 노드를 리스트에 저장\n",
    "            DFS(i)\n",
    "\n",
    "DFS(1)\n",
    "for i in range(2,n+1):\n",
    "    print(answer[i])"
   ]
  },
  {
   "cell_type": "markdown",
   "metadata": {},
   "source": [
    "# 문제 068 - 리프 노드의 개수 구하기"
   ]
  },
  {
   "cell_type": "markdown",
   "metadata": {},
   "source": [
    "- 리프 노드 : 자식의 개수가 0인 노드\n",
    "- 노드 1개를 지울 때 남은 트리에서 리프 노드의 개수를 구하는 프로그램 문제"
   ]
  },
  {
   "cell_type": "code",
   "execution_count": 15,
   "metadata": {},
   "outputs": [
    {
     "name": "stdout",
     "output_type": "stream",
     "text": [
      "[[1, 2], [], [3, 4], [], [5, 6], [], [7, 8], [], [], []]\n",
      "now node :  0\n",
      "next node  1\n",
      "next node  2\n",
      "now node :  1\n",
      "자식 노드 :  1\n",
      "now node :  2\n",
      "next node  3\n",
      "next node  4\n",
      "now node :  3\n",
      "자식 노드 :  2\n",
      "2\n"
     ]
    }
   ],
   "source": [
    "n = 9\n",
    "visited = [False] * (n+1)\n",
    "tree = [[] for _ in range(n+1)]\n",
    "answer = []\n",
    "root = 0\n",
    "for i,v in enumerate(list(map(int,input().split()))):\n",
    "    if v == -1 :\n",
    "        root = i\n",
    "        continue\n",
    "    tree[v].append(i)\n",
    "    # tree[i].append(v)\n",
    "\n",
    "print(tree)\n",
    "from collections import deque\n",
    "def BFS(v, k):\n",
    "    visited[v] = True\n",
    "    queue = deque()\n",
    "    queue.append(v)\n",
    "    cNode = 0 # 자식 노드\n",
    "    while queue :\n",
    "        now_node = queue.popleft()\n",
    "        print(\"now node : \", now_node)\n",
    "        visited[now_node] = True\n",
    "        if not tree[now_node]:\n",
    "            cNode += 1\n",
    "            print(\"자식 노드 : \",cNode)\n",
    "        for next in tree[now_node]:\n",
    "            print(\"next node \", next)\n",
    "            if not visited[next] and next != k:\n",
    "                queue.append(next)\n",
    "\n",
    "    return cNode\n",
    "\n",
    "print(BFS(root, 4))"
   ]
  }
 ],
 "metadata": {
  "kernelspec": {
   "display_name": "base",
   "language": "python",
   "name": "python3"
  },
  "language_info": {
   "codemirror_mode": {
    "name": "ipython",
    "version": 3
   },
   "file_extension": ".py",
   "mimetype": "text/x-python",
   "name": "python",
   "nbconvert_exporter": "python",
   "pygments_lexer": "ipython3",
   "version": "3.9.13"
  },
  "orig_nbformat": 4
 },
 "nbformat": 4,
 "nbformat_minor": 2
}
